{
 "cells": [
  {
   "cell_type": "markdown",
   "id": "7a65bd87",
   "metadata": {},
   "source": [
    "### Import necessary modules"
   ]
  },
  {
   "cell_type": "code",
   "execution_count": 1,
   "id": "3794409d",
   "metadata": {},
   "outputs": [],
   "source": [
    "from analysis_tool import *"
   ]
  },
  {
   "cell_type": "code",
   "execution_count": 2,
   "id": "63d608ee",
   "metadata": {},
   "outputs": [
    {
     "data": {
      "text/html": [
       "        <script type=\"text/javascript\">\n",
       "        window.PlotlyConfig = {MathJaxConfig: 'local'};\n",
       "        if (window.MathJax && window.MathJax.Hub && window.MathJax.Hub.Config) {window.MathJax.Hub.Config({SVG: {font: \"STIX-Web\"}});}\n",
       "        if (typeof require !== 'undefined') {\n",
       "        require.undef(\"plotly\");\n",
       "        requirejs.config({\n",
       "            paths: {\n",
       "                'plotly': ['https://cdn.plot.ly/plotly-2.18.2.min']\n",
       "            }\n",
       "        });\n",
       "        require(['plotly'], function(Plotly) {\n",
       "            window._Plotly = Plotly;\n",
       "        });\n",
       "        }\n",
       "        </script>\n",
       "        "
      ]
     },
     "metadata": {},
     "output_type": "display_data"
    }
   ],
   "source": [
    "import plotly.express as px\n",
    "from plotly.offline import init_notebook_mode\n",
    "init_notebook_mode(connected=True)"
   ]
  },
  {
   "cell_type": "markdown",
   "id": "e5d14a8a",
   "metadata": {},
   "source": [
    "### Ask about any function"
   ]
  },
  {
   "cell_type": "code",
   "execution_count": 3,
   "id": "1c66b7c1",
   "metadata": {},
   "outputs": [
    {
     "name": "stdout",
     "output_type": "stream",
     "text": [
      "Help on function where_instruction in module analysis_tool:\n",
      "\n",
      "where_instruction(instruction: str, name: str) -> pandas.core.frame.DataFrame\n",
      "    !\n",
      "    Leaves only those rows in which the instruction occurs a non-zero number of times.\n",
      "        @param instruction: Instruction.\n",
      "        @param name: Name of the dataframe or its beginning.\n",
      "        @return Dataframe with selected rows.\n",
      "\n"
     ]
    }
   ],
   "source": [
    "help(where_instruction)"
   ]
  },
  {
   "cell_type": "code",
   "execution_count": 4,
   "id": "9e5b362f",
   "metadata": {},
   "outputs": [
    {
     "name": "stdout",
     "output_type": "stream",
     "text": [
      "Help on function total_histogram in module analysis_tool:\n",
      "\n",
      "total_histogram(names: list[str] | None = None, percent: bool = True, ascending: bool = False, width: int = 2000) -> None\n",
      "    !\n",
      "    Builds a histogram of the total instruction usage in dataframes with the names given.\n",
      "        @param names: None or list of dataframe names (or their beginnings).\n",
      "        If None, all dataframes in the scope will be used. Default: None.\n",
      "        @param percent: If True, the histogram will be built by percentage, not by absolute values. Default: True.\n",
      "        @param ascending: If True, the histogram columns will be sorted in ascending order,\n",
      "        otherwise - in descending order. Default: False.\n",
      "        @param width: Width of the histogram. Default: 2000.\n",
      "\n"
     ]
    }
   ],
   "source": [
    "help(total_histogram)"
   ]
  },
  {
   "cell_type": "markdown",
   "id": "be36b708",
   "metadata": {},
   "source": [
    "#### Or take a look at the documentation: https://danila-pechenev.github.io/InstructionAnalysisFramework/namespaceanalysis__tool.html"
   ]
  },
  {
   "cell_type": "markdown",
   "id": "a1b7b9aa",
   "metadata": {},
   "source": [
    "### Get data from archives (convenient for artifacts of Github Actions workflows)"
   ]
  },
  {
   "cell_type": "code",
   "execution_count": 5,
   "id": "4cc39e9f",
   "metadata": {},
   "outputs": [],
   "source": [
    "initialize_with_archives(\"../20.03\", \"../20.03_dfs\")\n",
    "#                         ↑ path to the folder with archives   "
   ]
  },
  {
   "cell_type": "markdown",
   "id": "c265b712",
   "metadata": {},
   "source": [
    "### Data analysis"
   ]
  },
  {
   "cell_type": "markdown",
   "id": "8e8ae3a1",
   "metadata": {},
   "source": [
    "#### How can I look at the first few rows of the dataframe?"
   ]
  },
  {
   "cell_type": "code",
   "execution_count": 6,
   "id": "b35a2e2b",
   "metadata": {
    "scrolled": true
   },
   "outputs": [
    {
     "data": {
      "text/html": [
       "<div>\n",
       "<style scoped>\n",
       "    .dataframe tbody tr th:only-of-type {\n",
       "        vertical-align: middle;\n",
       "    }\n",
       "\n",
       "    .dataframe tbody tr th {\n",
       "        vertical-align: top;\n",
       "    }\n",
       "\n",
       "    .dataframe thead th {\n",
       "        text-align: right;\n",
       "    }\n",
       "</style>\n",
       "<table border=\"1\" class=\"dataframe\">\n",
       "  <thead>\n",
       "    <tr style=\"text-align: right;\">\n",
       "      <th></th>\n",
       "      <th>filename</th>\n",
       "      <th>file</th>\n",
       "      <th>of</th>\n",
       "      <th>endbr64</th>\n",
       "      <th>sub</th>\n",
       "      <th>mov</th>\n",
       "      <th>test</th>\n",
       "      <th>je</th>\n",
       "      <th>call</th>\n",
       "      <th>add</th>\n",
       "      <th>...</th>\n",
       "      <th>hsubpd</th>\n",
       "      <th>vcvtqq2ps</th>\n",
       "      <th>vcvtusi2ss</th>\n",
       "      <th>vpmovdb</th>\n",
       "      <th>vpexpandd</th>\n",
       "      <th>kshiftlq</th>\n",
       "      <th>pmaxsb</th>\n",
       "      <th>pminsb</th>\n",
       "      <th>vpmacsdd</th>\n",
       "      <th>vcmpgtps</th>\n",
       "    </tr>\n",
       "  </thead>\n",
       "  <tbody>\n",
       "    <tr>\n",
       "      <th>0</th>\n",
       "      <td>/usr/bin/python3.10</td>\n",
       "      <td>1</td>\n",
       "      <td>3</td>\n",
       "      <td>6</td>\n",
       "      <td>3</td>\n",
       "      <td>8</td>\n",
       "      <td>3</td>\n",
       "      <td>6</td>\n",
       "      <td>4</td>\n",
       "      <td>3</td>\n",
       "      <td>...</td>\n",
       "      <td>0</td>\n",
       "      <td>0</td>\n",
       "      <td>0</td>\n",
       "      <td>0</td>\n",
       "      <td>0</td>\n",
       "      <td>0</td>\n",
       "      <td>0</td>\n",
       "      <td>0</td>\n",
       "      <td>0</td>\n",
       "      <td>0</td>\n",
       "    </tr>\n",
       "    <tr>\n",
       "      <th>1</th>\n",
       "      <td>/usr/lib/python3.10/lib-dynload/_heapq.cpython...</td>\n",
       "      <td>1</td>\n",
       "      <td>3</td>\n",
       "      <td>16</td>\n",
       "      <td>29</td>\n",
       "      <td>1002</td>\n",
       "      <td>97</td>\n",
       "      <td>131</td>\n",
       "      <td>173</td>\n",
       "      <td>50</td>\n",
       "      <td>...</td>\n",
       "      <td>0</td>\n",
       "      <td>0</td>\n",
       "      <td>0</td>\n",
       "      <td>0</td>\n",
       "      <td>0</td>\n",
       "      <td>0</td>\n",
       "      <td>0</td>\n",
       "      <td>0</td>\n",
       "      <td>0</td>\n",
       "      <td>0</td>\n",
       "    </tr>\n",
       "    <tr>\n",
       "      <th>2</th>\n",
       "      <td>/DataCollection/venv/lib/python3.10/site-packa...</td>\n",
       "      <td>1</td>\n",
       "      <td>4</td>\n",
       "      <td>0</td>\n",
       "      <td>371</td>\n",
       "      <td>3011</td>\n",
       "      <td>423</td>\n",
       "      <td>546</td>\n",
       "      <td>614</td>\n",
       "      <td>464</td>\n",
       "      <td>...</td>\n",
       "      <td>0</td>\n",
       "      <td>0</td>\n",
       "      <td>0</td>\n",
       "      <td>0</td>\n",
       "      <td>0</td>\n",
       "      <td>0</td>\n",
       "      <td>0</td>\n",
       "      <td>0</td>\n",
       "      <td>0</td>\n",
       "      <td>0</td>\n",
       "    </tr>\n",
       "    <tr>\n",
       "      <th>3</th>\n",
       "      <td>/DataCollection/venv/lib/python3.10/site-packa...</td>\n",
       "      <td>1</td>\n",
       "      <td>4</td>\n",
       "      <td>0</td>\n",
       "      <td>748</td>\n",
       "      <td>32480</td>\n",
       "      <td>5651</td>\n",
       "      <td>7048</td>\n",
       "      <td>7002</td>\n",
       "      <td>1164</td>\n",
       "      <td>...</td>\n",
       "      <td>0</td>\n",
       "      <td>0</td>\n",
       "      <td>0</td>\n",
       "      <td>0</td>\n",
       "      <td>0</td>\n",
       "      <td>0</td>\n",
       "      <td>0</td>\n",
       "      <td>0</td>\n",
       "      <td>0</td>\n",
       "      <td>0</td>\n",
       "    </tr>\n",
       "    <tr>\n",
       "      <th>4</th>\n",
       "      <td>/usr/lib/python3.10/lib-dynload/cmath.cpython-...</td>\n",
       "      <td>1</td>\n",
       "      <td>3</td>\n",
       "      <td>29</td>\n",
       "      <td>61</td>\n",
       "      <td>542</td>\n",
       "      <td>81</td>\n",
       "      <td>171</td>\n",
       "      <td>391</td>\n",
       "      <td>80</td>\n",
       "      <td>...</td>\n",
       "      <td>0</td>\n",
       "      <td>0</td>\n",
       "      <td>0</td>\n",
       "      <td>0</td>\n",
       "      <td>0</td>\n",
       "      <td>0</td>\n",
       "      <td>0</td>\n",
       "      <td>0</td>\n",
       "      <td>0</td>\n",
       "      <td>0</td>\n",
       "    </tr>\n",
       "    <tr>\n",
       "      <th>5</th>\n",
       "      <td>/usr/lib/libuuid.so.1.3.0</td>\n",
       "      <td>1</td>\n",
       "      <td>3</td>\n",
       "      <td>25</td>\n",
       "      <td>66</td>\n",
       "      <td>1142</td>\n",
       "      <td>65</td>\n",
       "      <td>58</td>\n",
       "      <td>156</td>\n",
       "      <td>380</td>\n",
       "      <td>...</td>\n",
       "      <td>0</td>\n",
       "      <td>0</td>\n",
       "      <td>0</td>\n",
       "      <td>0</td>\n",
       "      <td>0</td>\n",
       "      <td>0</td>\n",
       "      <td>0</td>\n",
       "      <td>0</td>\n",
       "      <td>0</td>\n",
       "      <td>0</td>\n",
       "    </tr>\n",
       "    <tr>\n",
       "      <th>6</th>\n",
       "      <td>/DataCollection/venv/lib/python3.10/site-packa...</td>\n",
       "      <td>1</td>\n",
       "      <td>4</td>\n",
       "      <td>0</td>\n",
       "      <td>3670</td>\n",
       "      <td>109394</td>\n",
       "      <td>16710</td>\n",
       "      <td>22408</td>\n",
       "      <td>22752</td>\n",
       "      <td>3886</td>\n",
       "      <td>...</td>\n",
       "      <td>0</td>\n",
       "      <td>0</td>\n",
       "      <td>0</td>\n",
       "      <td>0</td>\n",
       "      <td>0</td>\n",
       "      <td>0</td>\n",
       "      <td>0</td>\n",
       "      <td>0</td>\n",
       "      <td>0</td>\n",
       "      <td>0</td>\n",
       "    </tr>\n",
       "  </tbody>\n",
       "</table>\n",
       "<p>7 rows × 1379 columns</p>\n",
       "</div>"
      ],
      "text/plain": [
       "                                            filename  file  of  endbr64   sub  \\\n",
       "0                                /usr/bin/python3.10     1   3        6     3   \n",
       "1  /usr/lib/python3.10/lib-dynload/_heapq.cpython...     1   3       16    29   \n",
       "2  /DataCollection/venv/lib/python3.10/site-packa...     1   4        0   371   \n",
       "3  /DataCollection/venv/lib/python3.10/site-packa...     1   4        0   748   \n",
       "4  /usr/lib/python3.10/lib-dynload/cmath.cpython-...     1   3       29    61   \n",
       "5                          /usr/lib/libuuid.so.1.3.0     1   3       25    66   \n",
       "6  /DataCollection/venv/lib/python3.10/site-packa...     1   4        0  3670   \n",
       "\n",
       "      mov   test     je   call   add  ...  hsubpd  vcvtqq2ps  vcvtusi2ss  \\\n",
       "0       8      3      6      4     3  ...       0          0           0   \n",
       "1    1002     97    131    173    50  ...       0          0           0   \n",
       "2    3011    423    546    614   464  ...       0          0           0   \n",
       "3   32480   5651   7048   7002  1164  ...       0          0           0   \n",
       "4     542     81    171    391    80  ...       0          0           0   \n",
       "5    1142     65     58    156   380  ...       0          0           0   \n",
       "6  109394  16710  22408  22752  3886  ...       0          0           0   \n",
       "\n",
       "   vpmovdb  vpexpandd  kshiftlq  pmaxsb  pminsb  vpmacsdd  vcmpgtps  \n",
       "0        0          0         0       0       0         0         0  \n",
       "1        0          0         0       0       0         0         0  \n",
       "2        0          0         0       0       0         0         0  \n",
       "3        0          0         0       0       0         0         0  \n",
       "4        0          0         0       0       0         0         0  \n",
       "5        0          0         0       0       0         0         0  \n",
       "6        0          0         0       0       0         0         0  \n",
       "\n",
       "[7 rows x 1379 columns]"
      ]
     },
     "execution_count": 6,
     "metadata": {},
     "output_type": "execute_result"
    }
   ],
   "source": [
    "head(\"m\", 7)  # Can work with the beginning of a key (as well as all other functions)"
   ]
  },
  {
   "cell_type": "markdown",
   "id": "e8c5c9aa",
   "metadata": {},
   "source": [
    "#### How many executable files are there in each system? (i.e. count number of rows in each dataframe)"
   ]
  },
  {
   "cell_type": "code",
   "execution_count": 7,
   "id": "ca59d05c",
   "metadata": {},
   "outputs": [
    {
     "name": "stdout",
     "output_type": "stream",
     "text": [
      "ubuntu: 3037 rows\n",
      "manjaro: 3538 rows\n",
      "opensuse: 2381 rows\n"
     ]
    }
   ],
   "source": [
    "for df in dfs_list():\n",
    "    print(f\"{df}: {df_len(df)} rows\")"
   ]
  },
  {
   "cell_type": "markdown",
   "id": "895f1dc5",
   "metadata": {},
   "source": [
    "#### How many instructions of each category are there in files in Ubuntu?"
   ]
  },
  {
   "cell_type": "code",
   "execution_count": 8,
   "id": "f75ff4d0",
   "metadata": {},
   "outputs": [
    {
     "data": {
      "text/html": [
       "<div>\n",
       "<style scoped>\n",
       "    .dataframe tbody tr th:only-of-type {\n",
       "        vertical-align: middle;\n",
       "    }\n",
       "\n",
       "    .dataframe tbody tr th {\n",
       "        vertical-align: top;\n",
       "    }\n",
       "\n",
       "    .dataframe thead th {\n",
       "        text-align: right;\n",
       "    }\n",
       "</style>\n",
       "<table border=\"1\" class=\"dataframe\">\n",
       "  <thead>\n",
       "    <tr style=\"text-align: right;\">\n",
       "      <th></th>\n",
       "      <th>filename</th>\n",
       "      <th>Other</th>\n",
       "      <th>Central Processing Unit (CPU) instructions set</th>\n",
       "      <th>Floating-Point Unit (FPU) instructions set</th>\n",
       "      <th>Transactional Synchronization Extensions (TSX) instructions set</th>\n",
       "      <th>Single Instruction Multiple Data (SIMD) instructions set</th>\n",
       "      <th>Advanced Encryption Standard (AES) instructions set</th>\n",
       "      <th>Memory Protection Extensions (MPX) instructions set</th>\n",
       "      <th>Virtual Machine Extensions (VMX) instructions set</th>\n",
       "    </tr>\n",
       "  </thead>\n",
       "  <tbody>\n",
       "    <tr>\n",
       "      <th>0</th>\n",
       "      <td>/usr/bin/dash</td>\n",
       "      <td>1022</td>\n",
       "      <td>18903</td>\n",
       "      <td>0</td>\n",
       "      <td>0</td>\n",
       "      <td>0</td>\n",
       "      <td>0</td>\n",
       "      <td>0</td>\n",
       "      <td>0</td>\n",
       "    </tr>\n",
       "    <tr>\n",
       "      <th>1</th>\n",
       "      <td>/usr/lib/x86_64-linux-gnu/libc.so.6</td>\n",
       "      <td>26807</td>\n",
       "      <td>334738</td>\n",
       "      <td>392</td>\n",
       "      <td>46</td>\n",
       "      <td>9427</td>\n",
       "      <td>0</td>\n",
       "      <td>0</td>\n",
       "      <td>0</td>\n",
       "    </tr>\n",
       "    <tr>\n",
       "      <th>2</th>\n",
       "      <td>/usr/lib/x86_64-linux-gnu/ld-linux-x86-64.so.2</td>\n",
       "      <td>3285</td>\n",
       "      <td>34982</td>\n",
       "      <td>14</td>\n",
       "      <td>0</td>\n",
       "      <td>172</td>\n",
       "      <td>0</td>\n",
       "      <td>0</td>\n",
       "      <td>0</td>\n",
       "    </tr>\n",
       "    <tr>\n",
       "      <th>3</th>\n",
       "      <td>/usr/bin/python3.10</td>\n",
       "      <td>30135</td>\n",
       "      <td>659875</td>\n",
       "      <td>14</td>\n",
       "      <td>0</td>\n",
       "      <td>0</td>\n",
       "      <td>0</td>\n",
       "      <td>0</td>\n",
       "      <td>0</td>\n",
       "    </tr>\n",
       "    <tr>\n",
       "      <th>4</th>\n",
       "      <td>/DataCollection/venv/lib/python3.10/site-packa...</td>\n",
       "      <td>718</td>\n",
       "      <td>10820</td>\n",
       "      <td>0</td>\n",
       "      <td>0</td>\n",
       "      <td>0</td>\n",
       "      <td>0</td>\n",
       "      <td>0</td>\n",
       "      <td>0</td>\n",
       "    </tr>\n",
       "    <tr>\n",
       "      <th>...</th>\n",
       "      <td>...</td>\n",
       "      <td>...</td>\n",
       "      <td>...</td>\n",
       "      <td>...</td>\n",
       "      <td>...</td>\n",
       "      <td>...</td>\n",
       "      <td>...</td>\n",
       "      <td>...</td>\n",
       "      <td>...</td>\n",
       "    </tr>\n",
       "    <tr>\n",
       "      <th>3032</th>\n",
       "      <td>/usr/sbin/blockdev</td>\n",
       "      <td>318</td>\n",
       "      <td>2445</td>\n",
       "      <td>0</td>\n",
       "      <td>0</td>\n",
       "      <td>0</td>\n",
       "      <td>0</td>\n",
       "      <td>0</td>\n",
       "      <td>0</td>\n",
       "    </tr>\n",
       "    <tr>\n",
       "      <th>3033</th>\n",
       "      <td>/usr/sbin/mkfs.minix</td>\n",
       "      <td>466</td>\n",
       "      <td>4522</td>\n",
       "      <td>0</td>\n",
       "      <td>0</td>\n",
       "      <td>0</td>\n",
       "      <td>0</td>\n",
       "      <td>0</td>\n",
       "      <td>0</td>\n",
       "    </tr>\n",
       "    <tr>\n",
       "      <th>3034</th>\n",
       "      <td>/usr/sbin/mount.fuse3</td>\n",
       "      <td>140</td>\n",
       "      <td>910</td>\n",
       "      <td>0</td>\n",
       "      <td>0</td>\n",
       "      <td>0</td>\n",
       "      <td>0</td>\n",
       "      <td>0</td>\n",
       "      <td>0</td>\n",
       "    </tr>\n",
       "    <tr>\n",
       "      <th>3035</th>\n",
       "      <td>/usr/sbin/usbmuxd</td>\n",
       "      <td>928</td>\n",
       "      <td>9342</td>\n",
       "      <td>0</td>\n",
       "      <td>0</td>\n",
       "      <td>0</td>\n",
       "      <td>0</td>\n",
       "      <td>0</td>\n",
       "      <td>0</td>\n",
       "    </tr>\n",
       "    <tr>\n",
       "      <th>3036</th>\n",
       "      <td>/usr/sbin/dmsetup</td>\n",
       "      <td>1422</td>\n",
       "      <td>20554</td>\n",
       "      <td>0</td>\n",
       "      <td>0</td>\n",
       "      <td>0</td>\n",
       "      <td>0</td>\n",
       "      <td>0</td>\n",
       "      <td>0</td>\n",
       "    </tr>\n",
       "  </tbody>\n",
       "</table>\n",
       "<p>3037 rows × 9 columns</p>\n",
       "</div>"
      ],
      "text/plain": [
       "                                               filename  Other  \\\n",
       "0                                         /usr/bin/dash   1022   \n",
       "1                   /usr/lib/x86_64-linux-gnu/libc.so.6  26807   \n",
       "2        /usr/lib/x86_64-linux-gnu/ld-linux-x86-64.so.2   3285   \n",
       "3                                   /usr/bin/python3.10  30135   \n",
       "4     /DataCollection/venv/lib/python3.10/site-packa...    718   \n",
       "...                                                 ...    ...   \n",
       "3032                                 /usr/sbin/blockdev    318   \n",
       "3033                               /usr/sbin/mkfs.minix    466   \n",
       "3034                              /usr/sbin/mount.fuse3    140   \n",
       "3035                                  /usr/sbin/usbmuxd    928   \n",
       "3036                                  /usr/sbin/dmsetup   1422   \n",
       "\n",
       "      Central Processing Unit (CPU) instructions set  \\\n",
       "0                                              18903   \n",
       "1                                             334738   \n",
       "2                                              34982   \n",
       "3                                             659875   \n",
       "4                                              10820   \n",
       "...                                              ...   \n",
       "3032                                            2445   \n",
       "3033                                            4522   \n",
       "3034                                             910   \n",
       "3035                                            9342   \n",
       "3036                                           20554   \n",
       "\n",
       "      Floating-Point Unit (FPU) instructions set  \\\n",
       "0                                              0   \n",
       "1                                            392   \n",
       "2                                             14   \n",
       "3                                             14   \n",
       "4                                              0   \n",
       "...                                          ...   \n",
       "3032                                           0   \n",
       "3033                                           0   \n",
       "3034                                           0   \n",
       "3035                                           0   \n",
       "3036                                           0   \n",
       "\n",
       "      Transactional Synchronization Extensions (TSX) instructions set  \\\n",
       "0                                                     0                 \n",
       "1                                                    46                 \n",
       "2                                                     0                 \n",
       "3                                                     0                 \n",
       "4                                                     0                 \n",
       "...                                                 ...                 \n",
       "3032                                                  0                 \n",
       "3033                                                  0                 \n",
       "3034                                                  0                 \n",
       "3035                                                  0                 \n",
       "3036                                                  0                 \n",
       "\n",
       "      Single Instruction Multiple Data (SIMD) instructions set  \\\n",
       "0                                                     0          \n",
       "1                                                  9427          \n",
       "2                                                   172          \n",
       "3                                                     0          \n",
       "4                                                     0          \n",
       "...                                                 ...          \n",
       "3032                                                  0          \n",
       "3033                                                  0          \n",
       "3034                                                  0          \n",
       "3035                                                  0          \n",
       "3036                                                  0          \n",
       "\n",
       "      Advanced Encryption Standard (AES) instructions set  \\\n",
       "0                                                     0     \n",
       "1                                                     0     \n",
       "2                                                     0     \n",
       "3                                                     0     \n",
       "4                                                     0     \n",
       "...                                                 ...     \n",
       "3032                                                  0     \n",
       "3033                                                  0     \n",
       "3034                                                  0     \n",
       "3035                                                  0     \n",
       "3036                                                  0     \n",
       "\n",
       "      Memory Protection Extensions (MPX) instructions set  \\\n",
       "0                                                     0     \n",
       "1                                                     0     \n",
       "2                                                     0     \n",
       "3                                                     0     \n",
       "4                                                     0     \n",
       "...                                                 ...     \n",
       "3032                                                  0     \n",
       "3033                                                  0     \n",
       "3034                                                  0     \n",
       "3035                                                  0     \n",
       "3036                                                  0     \n",
       "\n",
       "      Virtual Machine Extensions (VMX) instructions set  \n",
       "0                                                     0  \n",
       "1                                                     0  \n",
       "2                                                     0  \n",
       "3                                                     0  \n",
       "4                                                     0  \n",
       "...                                                 ...  \n",
       "3032                                                  0  \n",
       "3033                                                  0  \n",
       "3034                                                  0  \n",
       "3035                                                  0  \n",
       "3036                                                  0  \n",
       "\n",
       "[3037 rows x 9 columns]"
      ]
     },
     "execution_count": 8,
     "metadata": {},
     "output_type": "execute_result"
    }
   ],
   "source": [
    "divide_into_categories(\"u\")"
   ]
  },
  {
   "cell_type": "markdown",
   "id": "fecf3e36",
   "metadata": {},
   "source": [
    "#### How many instructions of each group are there in files in OpenSUSE?"
   ]
  },
  {
   "cell_type": "code",
   "execution_count": 9,
   "id": "bc29cd20",
   "metadata": {
    "scrolled": false
   },
   "outputs": [
    {
     "data": {
      "text/html": [
       "<div>\n",
       "<style scoped>\n",
       "    .dataframe tbody tr th:only-of-type {\n",
       "        vertical-align: middle;\n",
       "    }\n",
       "\n",
       "    .dataframe tbody tr th {\n",
       "        vertical-align: top;\n",
       "    }\n",
       "\n",
       "    .dataframe thead th {\n",
       "        text-align: right;\n",
       "    }\n",
       "</style>\n",
       "<table border=\"1\" class=\"dataframe\">\n",
       "  <thead>\n",
       "    <tr style=\"text-align: right;\">\n",
       "      <th></th>\n",
       "      <th>filename</th>\n",
       "      <th>Other</th>\n",
       "      <th>Binary Arithmetic Instructions</th>\n",
       "      <th>System Instructions</th>\n",
       "      <th>Bit and Byte Instructions</th>\n",
       "      <th>Control Transfer Instructions</th>\n",
       "      <th>Data Transfer Instructions</th>\n",
       "      <th>Miscellaneous Instructions</th>\n",
       "      <th>Logical Instructions</th>\n",
       "      <th>Shift and Rotate Instructions</th>\n",
       "      <th>...</th>\n",
       "      <th>Primitives of Functions</th>\n",
       "      <th>Fused Arithmetic Instructions</th>\n",
       "      <th>Gather Instructions</th>\n",
       "      <th>Scatter Instructions</th>\n",
       "      <th>Compress Instructions</th>\n",
       "      <th>Pack Instructions</th>\n",
       "      <th>State Management Instructions</th>\n",
       "      <th>FPU and SIMD State Management Instructions</th>\n",
       "      <th>Decimal Arithmetic Instructions</th>\n",
       "      <th>Expand Instructions</th>\n",
       "    </tr>\n",
       "  </thead>\n",
       "  <tbody>\n",
       "    <tr>\n",
       "      <th>0</th>\n",
       "      <td>/usr/bin/python3.10</td>\n",
       "      <td>11</td>\n",
       "      <td>9</td>\n",
       "      <td>10</td>\n",
       "      <td>3</td>\n",
       "      <td>25</td>\n",
       "      <td>8</td>\n",
       "      <td>14</td>\n",
       "      <td>4</td>\n",
       "      <td>3</td>\n",
       "      <td>...</td>\n",
       "      <td>0</td>\n",
       "      <td>0</td>\n",
       "      <td>0</td>\n",
       "      <td>0</td>\n",
       "      <td>0</td>\n",
       "      <td>0</td>\n",
       "      <td>0</td>\n",
       "      <td>0</td>\n",
       "      <td>0</td>\n",
       "      <td>0</td>\n",
       "    </tr>\n",
       "    <tr>\n",
       "      <th>1</th>\n",
       "      <td>/DataCollection/venv/lib/python3.10/site-packa...</td>\n",
       "      <td>718</td>\n",
       "      <td>1630</td>\n",
       "      <td>3346</td>\n",
       "      <td>497</td>\n",
       "      <td>2665</td>\n",
       "      <td>902</td>\n",
       "      <td>1103</td>\n",
       "      <td>311</td>\n",
       "      <td>272</td>\n",
       "      <td>...</td>\n",
       "      <td>0</td>\n",
       "      <td>0</td>\n",
       "      <td>0</td>\n",
       "      <td>0</td>\n",
       "      <td>0</td>\n",
       "      <td>0</td>\n",
       "      <td>0</td>\n",
       "      <td>0</td>\n",
       "      <td>0</td>\n",
       "      <td>0</td>\n",
       "    </tr>\n",
       "    <tr>\n",
       "      <th>2</th>\n",
       "      <td>/DataCollection/venv/lib/python3.10/site-packa...</td>\n",
       "      <td>2145</td>\n",
       "      <td>8924</td>\n",
       "      <td>35169</td>\n",
       "      <td>6202</td>\n",
       "      <td>25512</td>\n",
       "      <td>3081</td>\n",
       "      <td>6102</td>\n",
       "      <td>5206</td>\n",
       "      <td>647</td>\n",
       "      <td>...</td>\n",
       "      <td>0</td>\n",
       "      <td>0</td>\n",
       "      <td>0</td>\n",
       "      <td>0</td>\n",
       "      <td>0</td>\n",
       "      <td>0</td>\n",
       "      <td>0</td>\n",
       "      <td>0</td>\n",
       "      <td>0</td>\n",
       "      <td>0</td>\n",
       "    </tr>\n",
       "    <tr>\n",
       "      <th>3</th>\n",
       "      <td>/usr/lib64/python3.10/lib-dynload/cmath.cpytho...</td>\n",
       "      <td>903</td>\n",
       "      <td>156</td>\n",
       "      <td>656</td>\n",
       "      <td>73</td>\n",
       "      <td>824</td>\n",
       "      <td>268</td>\n",
       "      <td>179</td>\n",
       "      <td>53</td>\n",
       "      <td>15</td>\n",
       "      <td>...</td>\n",
       "      <td>0</td>\n",
       "      <td>0</td>\n",
       "      <td>0</td>\n",
       "      <td>0</td>\n",
       "      <td>0</td>\n",
       "      <td>0</td>\n",
       "      <td>0</td>\n",
       "      <td>0</td>\n",
       "      <td>0</td>\n",
       "      <td>0</td>\n",
       "    </tr>\n",
       "    <tr>\n",
       "      <th>4</th>\n",
       "      <td>/DataCollection/venv/lib/python3.10/site-packa...</td>\n",
       "      <td>140</td>\n",
       "      <td>957</td>\n",
       "      <td>5018</td>\n",
       "      <td>845</td>\n",
       "      <td>3410</td>\n",
       "      <td>443</td>\n",
       "      <td>558</td>\n",
       "      <td>952</td>\n",
       "      <td>27</td>\n",
       "      <td>...</td>\n",
       "      <td>0</td>\n",
       "      <td>0</td>\n",
       "      <td>0</td>\n",
       "      <td>0</td>\n",
       "      <td>0</td>\n",
       "      <td>0</td>\n",
       "      <td>0</td>\n",
       "      <td>0</td>\n",
       "      <td>0</td>\n",
       "      <td>0</td>\n",
       "    </tr>\n",
       "    <tr>\n",
       "      <th>...</th>\n",
       "      <td>...</td>\n",
       "      <td>...</td>\n",
       "      <td>...</td>\n",
       "      <td>...</td>\n",
       "      <td>...</td>\n",
       "      <td>...</td>\n",
       "      <td>...</td>\n",
       "      <td>...</td>\n",
       "      <td>...</td>\n",
       "      <td>...</td>\n",
       "      <td>...</td>\n",
       "      <td>...</td>\n",
       "      <td>...</td>\n",
       "      <td>...</td>\n",
       "      <td>...</td>\n",
       "      <td>...</td>\n",
       "      <td>...</td>\n",
       "      <td>...</td>\n",
       "      <td>...</td>\n",
       "      <td>...</td>\n",
       "      <td>...</td>\n",
       "    </tr>\n",
       "    <tr>\n",
       "      <th>2376</th>\n",
       "      <td>/usr/lib64/spa-0.2/support/libspa-journal.so</td>\n",
       "      <td>63</td>\n",
       "      <td>209</td>\n",
       "      <td>397</td>\n",
       "      <td>67</td>\n",
       "      <td>354</td>\n",
       "      <td>142</td>\n",
       "      <td>224</td>\n",
       "      <td>56</td>\n",
       "      <td>15</td>\n",
       "      <td>...</td>\n",
       "      <td>0</td>\n",
       "      <td>0</td>\n",
       "      <td>0</td>\n",
       "      <td>0</td>\n",
       "      <td>0</td>\n",
       "      <td>0</td>\n",
       "      <td>0</td>\n",
       "      <td>0</td>\n",
       "      <td>0</td>\n",
       "      <td>0</td>\n",
       "    </tr>\n",
       "    <tr>\n",
       "      <th>2377</th>\n",
       "      <td>/usr/lib64/spa-0.2/vulkan/libspa-vulkan.so</td>\n",
       "      <td>536</td>\n",
       "      <td>2200</td>\n",
       "      <td>6116</td>\n",
       "      <td>1141</td>\n",
       "      <td>3535</td>\n",
       "      <td>1061</td>\n",
       "      <td>1694</td>\n",
       "      <td>599</td>\n",
       "      <td>74</td>\n",
       "      <td>...</td>\n",
       "      <td>0</td>\n",
       "      <td>0</td>\n",
       "      <td>0</td>\n",
       "      <td>0</td>\n",
       "      <td>0</td>\n",
       "      <td>0</td>\n",
       "      <td>0</td>\n",
       "      <td>0</td>\n",
       "      <td>0</td>\n",
       "      <td>0</td>\n",
       "    </tr>\n",
       "    <tr>\n",
       "      <th>2378</th>\n",
       "      <td>/usr/lib64/spa-0.2/audiotestsrc/libspa-audiote...</td>\n",
       "      <td>422</td>\n",
       "      <td>1806</td>\n",
       "      <td>4426</td>\n",
       "      <td>822</td>\n",
       "      <td>2606</td>\n",
       "      <td>528</td>\n",
       "      <td>1151</td>\n",
       "      <td>314</td>\n",
       "      <td>19</td>\n",
       "      <td>...</td>\n",
       "      <td>0</td>\n",
       "      <td>0</td>\n",
       "      <td>0</td>\n",
       "      <td>0</td>\n",
       "      <td>0</td>\n",
       "      <td>0</td>\n",
       "      <td>0</td>\n",
       "      <td>0</td>\n",
       "      <td>0</td>\n",
       "      <td>0</td>\n",
       "    </tr>\n",
       "    <tr>\n",
       "      <th>2379</th>\n",
       "      <td>/usr/lib64/spa-0.2/test/libspa-test.so</td>\n",
       "      <td>335</td>\n",
       "      <td>1911</td>\n",
       "      <td>4897</td>\n",
       "      <td>929</td>\n",
       "      <td>2864</td>\n",
       "      <td>607</td>\n",
       "      <td>1322</td>\n",
       "      <td>386</td>\n",
       "      <td>18</td>\n",
       "      <td>...</td>\n",
       "      <td>0</td>\n",
       "      <td>0</td>\n",
       "      <td>0</td>\n",
       "      <td>0</td>\n",
       "      <td>0</td>\n",
       "      <td>0</td>\n",
       "      <td>0</td>\n",
       "      <td>0</td>\n",
       "      <td>0</td>\n",
       "      <td>0</td>\n",
       "    </tr>\n",
       "    <tr>\n",
       "      <th>2380</th>\n",
       "      <td>/usr/lib64/spa-0.2/control/libspa-control.so</td>\n",
       "      <td>270</td>\n",
       "      <td>1688</td>\n",
       "      <td>4004</td>\n",
       "      <td>788</td>\n",
       "      <td>2408</td>\n",
       "      <td>384</td>\n",
       "      <td>996</td>\n",
       "      <td>294</td>\n",
       "      <td>15</td>\n",
       "      <td>...</td>\n",
       "      <td>0</td>\n",
       "      <td>0</td>\n",
       "      <td>0</td>\n",
       "      <td>0</td>\n",
       "      <td>0</td>\n",
       "      <td>0</td>\n",
       "      <td>0</td>\n",
       "      <td>0</td>\n",
       "      <td>0</td>\n",
       "      <td>0</td>\n",
       "    </tr>\n",
       "  </tbody>\n",
       "</table>\n",
       "<p>2381 rows × 48 columns</p>\n",
       "</div>"
      ],
      "text/plain": [
       "                                               filename  Other  \\\n",
       "0                                   /usr/bin/python3.10     11   \n",
       "1     /DataCollection/venv/lib/python3.10/site-packa...    718   \n",
       "2     /DataCollection/venv/lib/python3.10/site-packa...   2145   \n",
       "3     /usr/lib64/python3.10/lib-dynload/cmath.cpytho...    903   \n",
       "4     /DataCollection/venv/lib/python3.10/site-packa...    140   \n",
       "...                                                 ...    ...   \n",
       "2376       /usr/lib64/spa-0.2/support/libspa-journal.so     63   \n",
       "2377         /usr/lib64/spa-0.2/vulkan/libspa-vulkan.so    536   \n",
       "2378  /usr/lib64/spa-0.2/audiotestsrc/libspa-audiote...    422   \n",
       "2379             /usr/lib64/spa-0.2/test/libspa-test.so    335   \n",
       "2380       /usr/lib64/spa-0.2/control/libspa-control.so    270   \n",
       "\n",
       "      Binary Arithmetic Instructions  System Instructions  \\\n",
       "0                                  9                   10   \n",
       "1                               1630                 3346   \n",
       "2                               8924                35169   \n",
       "3                                156                  656   \n",
       "4                                957                 5018   \n",
       "...                              ...                  ...   \n",
       "2376                             209                  397   \n",
       "2377                            2200                 6116   \n",
       "2378                            1806                 4426   \n",
       "2379                            1911                 4897   \n",
       "2380                            1688                 4004   \n",
       "\n",
       "      Bit and Byte Instructions  Control Transfer Instructions  \\\n",
       "0                             3                             25   \n",
       "1                           497                           2665   \n",
       "2                          6202                          25512   \n",
       "3                            73                            824   \n",
       "4                           845                           3410   \n",
       "...                         ...                            ...   \n",
       "2376                         67                            354   \n",
       "2377                       1141                           3535   \n",
       "2378                        822                           2606   \n",
       "2379                        929                           2864   \n",
       "2380                        788                           2408   \n",
       "\n",
       "      Data Transfer Instructions  Miscellaneous Instructions  \\\n",
       "0                              8                          14   \n",
       "1                            902                        1103   \n",
       "2                           3081                        6102   \n",
       "3                            268                         179   \n",
       "4                            443                         558   \n",
       "...                          ...                         ...   \n",
       "2376                         142                         224   \n",
       "2377                        1061                        1694   \n",
       "2378                         528                        1151   \n",
       "2379                         607                        1322   \n",
       "2380                         384                         996   \n",
       "\n",
       "      Logical Instructions  Shift and Rotate Instructions  ...  \\\n",
       "0                        4                              3  ...   \n",
       "1                      311                            272  ...   \n",
       "2                     5206                            647  ...   \n",
       "3                       53                             15  ...   \n",
       "4                      952                             27  ...   \n",
       "...                    ...                            ...  ...   \n",
       "2376                    56                             15  ...   \n",
       "2377                   599                             74  ...   \n",
       "2378                   314                             19  ...   \n",
       "2379                   386                             18  ...   \n",
       "2380                   294                             15  ...   \n",
       "\n",
       "      Primitives of Functions  Fused Arithmetic Instructions  \\\n",
       "0                           0                              0   \n",
       "1                           0                              0   \n",
       "2                           0                              0   \n",
       "3                           0                              0   \n",
       "4                           0                              0   \n",
       "...                       ...                            ...   \n",
       "2376                        0                              0   \n",
       "2377                        0                              0   \n",
       "2378                        0                              0   \n",
       "2379                        0                              0   \n",
       "2380                        0                              0   \n",
       "\n",
       "      Gather Instructions  Scatter Instructions  Compress Instructions  \\\n",
       "0                       0                     0                      0   \n",
       "1                       0                     0                      0   \n",
       "2                       0                     0                      0   \n",
       "3                       0                     0                      0   \n",
       "4                       0                     0                      0   \n",
       "...                   ...                   ...                    ...   \n",
       "2376                    0                     0                      0   \n",
       "2377                    0                     0                      0   \n",
       "2378                    0                     0                      0   \n",
       "2379                    0                     0                      0   \n",
       "2380                    0                     0                      0   \n",
       "\n",
       "      Pack Instructions  State Management Instructions  \\\n",
       "0                     0                              0   \n",
       "1                     0                              0   \n",
       "2                     0                              0   \n",
       "3                     0                              0   \n",
       "4                     0                              0   \n",
       "...                 ...                            ...   \n",
       "2376                  0                              0   \n",
       "2377                  0                              0   \n",
       "2378                  0                              0   \n",
       "2379                  0                              0   \n",
       "2380                  0                              0   \n",
       "\n",
       "      FPU and SIMD State Management Instructions  \\\n",
       "0                                              0   \n",
       "1                                              0   \n",
       "2                                              0   \n",
       "3                                              0   \n",
       "4                                              0   \n",
       "...                                          ...   \n",
       "2376                                           0   \n",
       "2377                                           0   \n",
       "2378                                           0   \n",
       "2379                                           0   \n",
       "2380                                           0   \n",
       "\n",
       "      Decimal Arithmetic Instructions  Expand Instructions  \n",
       "0                                   0                    0  \n",
       "1                                   0                    0  \n",
       "2                                   0                    0  \n",
       "3                                   0                    0  \n",
       "4                                   0                    0  \n",
       "...                               ...                  ...  \n",
       "2376                                0                    0  \n",
       "2377                                0                    0  \n",
       "2378                                0                    0  \n",
       "2379                                0                    0  \n",
       "2380                                0                    0  \n",
       "\n",
       "[2381 rows x 48 columns]"
      ]
     },
     "execution_count": 9,
     "metadata": {},
     "output_type": "execute_result"
    }
   ],
   "source": [
    "divide_into_groups(\"opensuse\")"
   ]
  },
  {
   "cell_type": "markdown",
   "id": "bbff114a",
   "metadata": {},
   "source": [
    "#### Where are AES instructions used in Manjaro?"
   ]
  },
  {
   "cell_type": "code",
   "execution_count": 10,
   "id": "03dd53ea",
   "metadata": {},
   "outputs": [
    {
     "data": {
      "text/html": [
       "<div>\n",
       "<style scoped>\n",
       "    .dataframe tbody tr th:only-of-type {\n",
       "        vertical-align: middle;\n",
       "    }\n",
       "\n",
       "    .dataframe tbody tr th {\n",
       "        vertical-align: top;\n",
       "    }\n",
       "\n",
       "    .dataframe thead th {\n",
       "        text-align: right;\n",
       "    }\n",
       "</style>\n",
       "<table border=\"1\" class=\"dataframe\">\n",
       "  <thead>\n",
       "    <tr style=\"text-align: right;\">\n",
       "      <th></th>\n",
       "      <th>filename</th>\n",
       "      <th>Other</th>\n",
       "      <th>Central Processing Unit (CPU) instructions set</th>\n",
       "      <th>Floating-Point Unit (FPU) instructions set</th>\n",
       "      <th>Single Instruction Multiple Data (SIMD) instructions set</th>\n",
       "      <th>Advanced Encryption Standard (AES) instructions set</th>\n",
       "      <th>Memory Protection Extensions (MPX) instructions set</th>\n",
       "      <th>Transactional Synchronization Extensions (TSX) instructions set</th>\n",
       "      <th>Virtual Machine Extensions (VMX) instructions set</th>\n",
       "    </tr>\n",
       "  </thead>\n",
       "  <tbody>\n",
       "    <tr>\n",
       "      <th>0</th>\n",
       "      <td>/usr/lib/libcrypto.so.3</td>\n",
       "      <td>87286</td>\n",
       "      <td>537117</td>\n",
       "      <td>2159</td>\n",
       "      <td>14838</td>\n",
       "      <td>502</td>\n",
       "      <td>3</td>\n",
       "      <td>6</td>\n",
       "      <td>4</td>\n",
       "    </tr>\n",
       "    <tr>\n",
       "      <th>1</th>\n",
       "      <td>/usr/lib/libgnutls.so.30.34.3</td>\n",
       "      <td>12792</td>\n",
       "      <td>274696</td>\n",
       "      <td>41</td>\n",
       "      <td>2158</td>\n",
       "      <td>102</td>\n",
       "      <td>1</td>\n",
       "      <td>0</td>\n",
       "      <td>0</td>\n",
       "    </tr>\n",
       "    <tr>\n",
       "      <th>2</th>\n",
       "      <td>/usr/lib/libgcrypt.so.20.4.1</td>\n",
       "      <td>31600</td>\n",
       "      <td>169938</td>\n",
       "      <td>54</td>\n",
       "      <td>30076</td>\n",
       "      <td>2106</td>\n",
       "      <td>1</td>\n",
       "      <td>0</td>\n",
       "      <td>0</td>\n",
       "    </tr>\n",
       "    <tr>\n",
       "      <th>3</th>\n",
       "      <td>/usr/lib/libfreeblpriv3.so</td>\n",
       "      <td>8575</td>\n",
       "      <td>110817</td>\n",
       "      <td>0</td>\n",
       "      <td>3605</td>\n",
       "      <td>406</td>\n",
       "      <td>0</td>\n",
       "      <td>0</td>\n",
       "      <td>0</td>\n",
       "    </tr>\n",
       "    <tr>\n",
       "      <th>4</th>\n",
       "      <td>/usr/bin/chromedriver</td>\n",
       "      <td>206805</td>\n",
       "      <td>2385241</td>\n",
       "      <td>218</td>\n",
       "      <td>5982</td>\n",
       "      <td>102</td>\n",
       "      <td>1</td>\n",
       "      <td>0</td>\n",
       "      <td>0</td>\n",
       "    </tr>\n",
       "    <tr>\n",
       "      <th>5</th>\n",
       "      <td>/usr/lib/chromium/chromium</td>\n",
       "      <td>3662207</td>\n",
       "      <td>44275874</td>\n",
       "      <td>474</td>\n",
       "      <td>60058</td>\n",
       "      <td>951</td>\n",
       "      <td>1</td>\n",
       "      <td>0</td>\n",
       "      <td>0</td>\n",
       "    </tr>\n",
       "  </tbody>\n",
       "</table>\n",
       "</div>"
      ],
      "text/plain": [
       "                        filename    Other  \\\n",
       "0        /usr/lib/libcrypto.so.3    87286   \n",
       "1  /usr/lib/libgnutls.so.30.34.3    12792   \n",
       "2   /usr/lib/libgcrypt.so.20.4.1    31600   \n",
       "3     /usr/lib/libfreeblpriv3.so     8575   \n",
       "4          /usr/bin/chromedriver   206805   \n",
       "5     /usr/lib/chromium/chromium  3662207   \n",
       "\n",
       "   Central Processing Unit (CPU) instructions set  \\\n",
       "0                                          537117   \n",
       "1                                          274696   \n",
       "2                                          169938   \n",
       "3                                          110817   \n",
       "4                                         2385241   \n",
       "5                                        44275874   \n",
       "\n",
       "   Floating-Point Unit (FPU) instructions set  \\\n",
       "0                                        2159   \n",
       "1                                          41   \n",
       "2                                          54   \n",
       "3                                           0   \n",
       "4                                         218   \n",
       "5                                         474   \n",
       "\n",
       "   Single Instruction Multiple Data (SIMD) instructions set  \\\n",
       "0                                              14838          \n",
       "1                                               2158          \n",
       "2                                              30076          \n",
       "3                                               3605          \n",
       "4                                               5982          \n",
       "5                                              60058          \n",
       "\n",
       "   Advanced Encryption Standard (AES) instructions set  \\\n",
       "0                                                502     \n",
       "1                                                102     \n",
       "2                                               2106     \n",
       "3                                                406     \n",
       "4                                                102     \n",
       "5                                                951     \n",
       "\n",
       "   Memory Protection Extensions (MPX) instructions set  \\\n",
       "0                                                  3     \n",
       "1                                                  1     \n",
       "2                                                  1     \n",
       "3                                                  0     \n",
       "4                                                  1     \n",
       "5                                                  1     \n",
       "\n",
       "   Transactional Synchronization Extensions (TSX) instructions set  \\\n",
       "0                                                  6                 \n",
       "1                                                  0                 \n",
       "2                                                  0                 \n",
       "3                                                  0                 \n",
       "4                                                  0                 \n",
       "5                                                  0                 \n",
       "\n",
       "   Virtual Machine Extensions (VMX) instructions set  \n",
       "0                                                  4  \n",
       "1                                                  0  \n",
       "2                                                  0  \n",
       "3                                                  0  \n",
       "4                                                  0  \n",
       "5                                                  0  "
      ]
     },
     "execution_count": 10,
     "metadata": {},
     "output_type": "execute_result"
    }
   ],
   "source": [
    "where_category(category=\"Advanced Encryption Standard (AES) instructions set\", name=\"m\")"
   ]
  },
  {
   "cell_type": "markdown",
   "id": "14e5d5c6",
   "metadata": {},
   "source": [
    "#### Where are SIMD instructions used in Ubuntu?"
   ]
  },
  {
   "cell_type": "code",
   "execution_count": 11,
   "id": "215e6fd1",
   "metadata": {},
   "outputs": [
    {
     "data": {
      "text/html": [
       "<div>\n",
       "<style scoped>\n",
       "    .dataframe tbody tr th:only-of-type {\n",
       "        vertical-align: middle;\n",
       "    }\n",
       "\n",
       "    .dataframe tbody tr th {\n",
       "        vertical-align: top;\n",
       "    }\n",
       "\n",
       "    .dataframe thead th {\n",
       "        text-align: right;\n",
       "    }\n",
       "</style>\n",
       "<table border=\"1\" class=\"dataframe\">\n",
       "  <thead>\n",
       "    <tr style=\"text-align: right;\">\n",
       "      <th></th>\n",
       "      <th>filename</th>\n",
       "      <th>Other</th>\n",
       "      <th>Central Processing Unit (CPU) instructions set</th>\n",
       "      <th>Floating-Point Unit (FPU) instructions set</th>\n",
       "      <th>Transactional Synchronization Extensions (TSX) instructions set</th>\n",
       "      <th>Single Instruction Multiple Data (SIMD) instructions set</th>\n",
       "      <th>Advanced Encryption Standard (AES) instructions set</th>\n",
       "      <th>Memory Protection Extensions (MPX) instructions set</th>\n",
       "      <th>Virtual Machine Extensions (VMX) instructions set</th>\n",
       "    </tr>\n",
       "  </thead>\n",
       "  <tbody>\n",
       "    <tr>\n",
       "      <th>0</th>\n",
       "      <td>/usr/lib/x86_64-linux-gnu/libc.so.6</td>\n",
       "      <td>26807</td>\n",
       "      <td>334738</td>\n",
       "      <td>392</td>\n",
       "      <td>46</td>\n",
       "      <td>9427</td>\n",
       "      <td>0</td>\n",
       "      <td>0</td>\n",
       "      <td>0</td>\n",
       "    </tr>\n",
       "    <tr>\n",
       "      <th>1</th>\n",
       "      <td>/usr/lib/x86_64-linux-gnu/ld-linux-x86-64.so.2</td>\n",
       "      <td>3285</td>\n",
       "      <td>34982</td>\n",
       "      <td>14</td>\n",
       "      <td>0</td>\n",
       "      <td>172</td>\n",
       "      <td>0</td>\n",
       "      <td>0</td>\n",
       "      <td>0</td>\n",
       "    </tr>\n",
       "    <tr>\n",
       "      <th>2</th>\n",
       "      <td>/usr/lib/x86_64-linux-gnu/libstdc++.so.6.0.30</td>\n",
       "      <td>18482</td>\n",
       "      <td>256073</td>\n",
       "      <td>179</td>\n",
       "      <td>0</td>\n",
       "      <td>2</td>\n",
       "      <td>0</td>\n",
       "      <td>0</td>\n",
       "      <td>0</td>\n",
       "    </tr>\n",
       "    <tr>\n",
       "      <th>3</th>\n",
       "      <td>/usr/lib/x86_64-linux-gnu/libcrypto.so.3</td>\n",
       "      <td>48279</td>\n",
       "      <td>605410</td>\n",
       "      <td>2159</td>\n",
       "      <td>6</td>\n",
       "      <td>14838</td>\n",
       "      <td>502</td>\n",
       "      <td>3</td>\n",
       "      <td>4</td>\n",
       "    </tr>\n",
       "    <tr>\n",
       "      <th>4</th>\n",
       "      <td>/DataCollection/venv/lib/python3.10/site-packa...</td>\n",
       "      <td>20598</td>\n",
       "      <td>400861</td>\n",
       "      <td>13951</td>\n",
       "      <td>0</td>\n",
       "      <td>47533</td>\n",
       "      <td>0</td>\n",
       "      <td>0</td>\n",
       "      <td>0</td>\n",
       "    </tr>\n",
       "    <tr>\n",
       "      <th>...</th>\n",
       "      <td>...</td>\n",
       "      <td>...</td>\n",
       "      <td>...</td>\n",
       "      <td>...</td>\n",
       "      <td>...</td>\n",
       "      <td>...</td>\n",
       "      <td>...</td>\n",
       "      <td>...</td>\n",
       "      <td>...</td>\n",
       "    </tr>\n",
       "    <tr>\n",
       "      <th>107</th>\n",
       "      <td>/usr/lib/snapd/snap-failure</td>\n",
       "      <td>7637</td>\n",
       "      <td>292991</td>\n",
       "      <td>0</td>\n",
       "      <td>0</td>\n",
       "      <td>283</td>\n",
       "      <td>0</td>\n",
       "      <td>0</td>\n",
       "      <td>0</td>\n",
       "    </tr>\n",
       "    <tr>\n",
       "      <th>108</th>\n",
       "      <td>/usr/lib/gcc/x86_64-linux-gnu/12/cc1</td>\n",
       "      <td>264580</td>\n",
       "      <td>4788684</td>\n",
       "      <td>0</td>\n",
       "      <td>0</td>\n",
       "      <td>14</td>\n",
       "      <td>0</td>\n",
       "      <td>0</td>\n",
       "      <td>0</td>\n",
       "    </tr>\n",
       "    <tr>\n",
       "      <th>109</th>\n",
       "      <td>/usr/bin/snap</td>\n",
       "      <td>43471</td>\n",
       "      <td>1680425</td>\n",
       "      <td>0</td>\n",
       "      <td>0</td>\n",
       "      <td>3560</td>\n",
       "      <td>0</td>\n",
       "      <td>0</td>\n",
       "      <td>0</td>\n",
       "    </tr>\n",
       "    <tr>\n",
       "      <th>110</th>\n",
       "      <td>/usr/lib32/libc.so.6</td>\n",
       "      <td>25473</td>\n",
       "      <td>418084</td>\n",
       "      <td>1046</td>\n",
       "      <td>8</td>\n",
       "      <td>147</td>\n",
       "      <td>0</td>\n",
       "      <td>0</td>\n",
       "      <td>0</td>\n",
       "    </tr>\n",
       "    <tr>\n",
       "      <th>111</th>\n",
       "      <td>/usr/sbin/ldconfig.real</td>\n",
       "      <td>16357</td>\n",
       "      <td>169783</td>\n",
       "      <td>62</td>\n",
       "      <td>35</td>\n",
       "      <td>7719</td>\n",
       "      <td>0</td>\n",
       "      <td>0</td>\n",
       "      <td>0</td>\n",
       "    </tr>\n",
       "  </tbody>\n",
       "</table>\n",
       "<p>112 rows × 9 columns</p>\n",
       "</div>"
      ],
      "text/plain": [
       "                                              filename   Other  \\\n",
       "0                  /usr/lib/x86_64-linux-gnu/libc.so.6   26807   \n",
       "1       /usr/lib/x86_64-linux-gnu/ld-linux-x86-64.so.2    3285   \n",
       "2        /usr/lib/x86_64-linux-gnu/libstdc++.so.6.0.30   18482   \n",
       "3             /usr/lib/x86_64-linux-gnu/libcrypto.so.3   48279   \n",
       "4    /DataCollection/venv/lib/python3.10/site-packa...   20598   \n",
       "..                                                 ...     ...   \n",
       "107                        /usr/lib/snapd/snap-failure    7637   \n",
       "108               /usr/lib/gcc/x86_64-linux-gnu/12/cc1  264580   \n",
       "109                                      /usr/bin/snap   43471   \n",
       "110                               /usr/lib32/libc.so.6   25473   \n",
       "111                            /usr/sbin/ldconfig.real   16357   \n",
       "\n",
       "     Central Processing Unit (CPU) instructions set  \\\n",
       "0                                            334738   \n",
       "1                                             34982   \n",
       "2                                            256073   \n",
       "3                                            605410   \n",
       "4                                            400861   \n",
       "..                                              ...   \n",
       "107                                          292991   \n",
       "108                                         4788684   \n",
       "109                                         1680425   \n",
       "110                                          418084   \n",
       "111                                          169783   \n",
       "\n",
       "     Floating-Point Unit (FPU) instructions set  \\\n",
       "0                                           392   \n",
       "1                                            14   \n",
       "2                                           179   \n",
       "3                                          2159   \n",
       "4                                         13951   \n",
       "..                                          ...   \n",
       "107                                           0   \n",
       "108                                           0   \n",
       "109                                           0   \n",
       "110                                        1046   \n",
       "111                                          62   \n",
       "\n",
       "     Transactional Synchronization Extensions (TSX) instructions set  \\\n",
       "0                                                   46                 \n",
       "1                                                    0                 \n",
       "2                                                    0                 \n",
       "3                                                    6                 \n",
       "4                                                    0                 \n",
       "..                                                 ...                 \n",
       "107                                                  0                 \n",
       "108                                                  0                 \n",
       "109                                                  0                 \n",
       "110                                                  8                 \n",
       "111                                                 35                 \n",
       "\n",
       "     Single Instruction Multiple Data (SIMD) instructions set  \\\n",
       "0                                                 9427          \n",
       "1                                                  172          \n",
       "2                                                    2          \n",
       "3                                                14838          \n",
       "4                                                47533          \n",
       "..                                                 ...          \n",
       "107                                                283          \n",
       "108                                                 14          \n",
       "109                                               3560          \n",
       "110                                                147          \n",
       "111                                               7719          \n",
       "\n",
       "     Advanced Encryption Standard (AES) instructions set  \\\n",
       "0                                                    0     \n",
       "1                                                    0     \n",
       "2                                                    0     \n",
       "3                                                  502     \n",
       "4                                                    0     \n",
       "..                                                 ...     \n",
       "107                                                  0     \n",
       "108                                                  0     \n",
       "109                                                  0     \n",
       "110                                                  0     \n",
       "111                                                  0     \n",
       "\n",
       "     Memory Protection Extensions (MPX) instructions set  \\\n",
       "0                                                    0     \n",
       "1                                                    0     \n",
       "2                                                    0     \n",
       "3                                                    3     \n",
       "4                                                    0     \n",
       "..                                                 ...     \n",
       "107                                                  0     \n",
       "108                                                  0     \n",
       "109                                                  0     \n",
       "110                                                  0     \n",
       "111                                                  0     \n",
       "\n",
       "     Virtual Machine Extensions (VMX) instructions set  \n",
       "0                                                    0  \n",
       "1                                                    0  \n",
       "2                                                    0  \n",
       "3                                                    4  \n",
       "4                                                    0  \n",
       "..                                                 ...  \n",
       "107                                                  0  \n",
       "108                                                  0  \n",
       "109                                                  0  \n",
       "110                                                  0  \n",
       "111                                                  0  \n",
       "\n",
       "[112 rows x 9 columns]"
      ]
     },
     "execution_count": 11,
     "metadata": {},
     "output_type": "execute_result"
    }
   ],
   "source": [
    "where_category(category=\"Single Instruction Multiple Data (SIMD) instructions set\", name=\"u\")"
   ]
  },
  {
   "cell_type": "markdown",
   "id": "923fc1d3",
   "metadata": {},
   "source": [
    "#### Where is AAD instruction used in OpenSUSE?"
   ]
  },
  {
   "cell_type": "code",
   "execution_count": 12,
   "id": "9ddcf1ef",
   "metadata": {},
   "outputs": [
    {
     "data": {
      "text/html": [
       "<div>\n",
       "<style scoped>\n",
       "    .dataframe tbody tr th:only-of-type {\n",
       "        vertical-align: middle;\n",
       "    }\n",
       "\n",
       "    .dataframe tbody tr th {\n",
       "        vertical-align: top;\n",
       "    }\n",
       "\n",
       "    .dataframe thead th {\n",
       "        text-align: right;\n",
       "    }\n",
       "</style>\n",
       "<table border=\"1\" class=\"dataframe\">\n",
       "  <thead>\n",
       "    <tr style=\"text-align: right;\">\n",
       "      <th></th>\n",
       "      <th>filename</th>\n",
       "      <th>file</th>\n",
       "      <th>of</th>\n",
       "      <th>endbr64</th>\n",
       "      <th>sub</th>\n",
       "      <th>mov</th>\n",
       "      <th>test</th>\n",
       "      <th>je</th>\n",
       "      <th>call</th>\n",
       "      <th>add</th>\n",
       "      <th>...</th>\n",
       "      <th>vinsertf32x8</th>\n",
       "      <th>movntq</th>\n",
       "      <th>pswapd</th>\n",
       "      <th>pfadd</th>\n",
       "      <th>pfsub</th>\n",
       "      <th>blendps</th>\n",
       "      <th>vcmpnleps</th>\n",
       "      <th>cmpxchg16b</th>\n",
       "      <th>vcvtsi2ssq</th>\n",
       "      <th>vcvtss2si</th>\n",
       "    </tr>\n",
       "  </thead>\n",
       "  <tbody>\n",
       "    <tr>\n",
       "      <th>0</th>\n",
       "      <td>/usr/lib/python3.10/site-packages/pip/_vendor/...</td>\n",
       "      <td>1</td>\n",
       "      <td>1</td>\n",
       "      <td>0</td>\n",
       "      <td>261</td>\n",
       "      <td>3341</td>\n",
       "      <td>657</td>\n",
       "      <td>1112</td>\n",
       "      <td>1590</td>\n",
       "      <td>595</td>\n",
       "      <td>...</td>\n",
       "      <td>0</td>\n",
       "      <td>0</td>\n",
       "      <td>0</td>\n",
       "      <td>0</td>\n",
       "      <td>0</td>\n",
       "      <td>0</td>\n",
       "      <td>0</td>\n",
       "      <td>0</td>\n",
       "      <td>0</td>\n",
       "      <td>0</td>\n",
       "    </tr>\n",
       "  </tbody>\n",
       "</table>\n",
       "<p>1 rows × 1463 columns</p>\n",
       "</div>"
      ],
      "text/plain": [
       "                                            filename  file  of  endbr64  sub  \\\n",
       "0  /usr/lib/python3.10/site-packages/pip/_vendor/...     1   1        0  261   \n",
       "\n",
       "    mov  test    je  call  add  ...  vinsertf32x8  movntq  pswapd  pfadd  \\\n",
       "0  3341   657  1112  1590  595  ...             0       0       0      0   \n",
       "\n",
       "   pfsub  blendps  vcmpnleps  cmpxchg16b  vcvtsi2ssq  vcvtss2si  \n",
       "0      0        0          0           0           0          0  \n",
       "\n",
       "[1 rows x 1463 columns]"
      ]
     },
     "execution_count": 12,
     "metadata": {},
     "output_type": "execute_result"
    }
   ],
   "source": [
    "where_instruction(instruction=\"aad\", name=\"op\")"
   ]
  },
  {
   "cell_type": "markdown",
   "id": "d0b3cfe6",
   "metadata": {},
   "source": [
    "#### How to figure out top 10 most popular instructions in Manjaro?"
   ]
  },
  {
   "cell_type": "code",
   "execution_count": 13,
   "id": "67a476be",
   "metadata": {},
   "outputs": [
    {
     "data": {
      "text/html": [
       "<div>\n",
       "<style scoped>\n",
       "    .dataframe tbody tr th:only-of-type {\n",
       "        vertical-align: middle;\n",
       "    }\n",
       "\n",
       "    .dataframe tbody tr th {\n",
       "        vertical-align: top;\n",
       "    }\n",
       "\n",
       "    .dataframe thead th {\n",
       "        text-align: right;\n",
       "    }\n",
       "</style>\n",
       "<table border=\"1\" class=\"dataframe\">\n",
       "  <thead>\n",
       "    <tr style=\"text-align: right;\">\n",
       "      <th></th>\n",
       "      <th>filename</th>\n",
       "      <th>mov</th>\n",
       "      <th>lea</th>\n",
       "      <th>call</th>\n",
       "      <th>je</th>\n",
       "      <th>cmp</th>\n",
       "      <th>test</th>\n",
       "      <th>jmp</th>\n",
       "      <th>pop</th>\n",
       "      <th>add</th>\n",
       "      <th>push</th>\n",
       "    </tr>\n",
       "  </thead>\n",
       "  <tbody>\n",
       "    <tr>\n",
       "      <th>0</th>\n",
       "      <td>/usr/bin/python3.10</td>\n",
       "      <td>8</td>\n",
       "      <td>5</td>\n",
       "      <td>4</td>\n",
       "      <td>6</td>\n",
       "      <td>1</td>\n",
       "      <td>3</td>\n",
       "      <td>4</td>\n",
       "      <td>2</td>\n",
       "      <td>3</td>\n",
       "      <td>3</td>\n",
       "    </tr>\n",
       "    <tr>\n",
       "      <th>1</th>\n",
       "      <td>/usr/lib/python3.10/lib-dynload/_heapq.cpython...</td>\n",
       "      <td>1002</td>\n",
       "      <td>215</td>\n",
       "      <td>173</td>\n",
       "      <td>131</td>\n",
       "      <td>103</td>\n",
       "      <td>97</td>\n",
       "      <td>154</td>\n",
       "      <td>54</td>\n",
       "      <td>50</td>\n",
       "      <td>54</td>\n",
       "    </tr>\n",
       "    <tr>\n",
       "      <th>2</th>\n",
       "      <td>/DataCollection/venv/lib/python3.10/site-packa...</td>\n",
       "      <td>3011</td>\n",
       "      <td>591</td>\n",
       "      <td>614</td>\n",
       "      <td>546</td>\n",
       "      <td>360</td>\n",
       "      <td>423</td>\n",
       "      <td>768</td>\n",
       "      <td>470</td>\n",
       "      <td>464</td>\n",
       "      <td>370</td>\n",
       "    </tr>\n",
       "    <tr>\n",
       "      <th>3</th>\n",
       "      <td>/DataCollection/venv/lib/python3.10/site-packa...</td>\n",
       "      <td>32480</td>\n",
       "      <td>3260</td>\n",
       "      <td>7002</td>\n",
       "      <td>7048</td>\n",
       "      <td>3289</td>\n",
       "      <td>5651</td>\n",
       "      <td>6523</td>\n",
       "      <td>1366</td>\n",
       "      <td>1164</td>\n",
       "      <td>1379</td>\n",
       "    </tr>\n",
       "    <tr>\n",
       "      <th>4</th>\n",
       "      <td>/usr/lib/python3.10/lib-dynload/cmath.cpython-...</td>\n",
       "      <td>542</td>\n",
       "      <td>125</td>\n",
       "      <td>391</td>\n",
       "      <td>171</td>\n",
       "      <td>26</td>\n",
       "      <td>81</td>\n",
       "      <td>334</td>\n",
       "      <td>70</td>\n",
       "      <td>80</td>\n",
       "      <td>40</td>\n",
       "    </tr>\n",
       "    <tr>\n",
       "      <th>...</th>\n",
       "      <td>...</td>\n",
       "      <td>...</td>\n",
       "      <td>...</td>\n",
       "      <td>...</td>\n",
       "      <td>...</td>\n",
       "      <td>...</td>\n",
       "      <td>...</td>\n",
       "      <td>...</td>\n",
       "      <td>...</td>\n",
       "      <td>...</td>\n",
       "      <td>...</td>\n",
       "    </tr>\n",
       "    <tr>\n",
       "      <th>3533</th>\n",
       "      <td>/usr/bin/db5.3/db_upgrade</td>\n",
       "      <td>174</td>\n",
       "      <td>30</td>\n",
       "      <td>60</td>\n",
       "      <td>20</td>\n",
       "      <td>7</td>\n",
       "      <td>22</td>\n",
       "      <td>24</td>\n",
       "      <td>12</td>\n",
       "      <td>8</td>\n",
       "      <td>13</td>\n",
       "    </tr>\n",
       "    <tr>\n",
       "      <th>3534</th>\n",
       "      <td>/usr/bin/db5.3/db_load</td>\n",
       "      <td>1062</td>\n",
       "      <td>193</td>\n",
       "      <td>280</td>\n",
       "      <td>180</td>\n",
       "      <td>87</td>\n",
       "      <td>214</td>\n",
       "      <td>171</td>\n",
       "      <td>49</td>\n",
       "      <td>31</td>\n",
       "      <td>35</td>\n",
       "    </tr>\n",
       "    <tr>\n",
       "      <th>3535</th>\n",
       "      <td>/usr/bin/db5.3/db_recover</td>\n",
       "      <td>170</td>\n",
       "      <td>39</td>\n",
       "      <td>58</td>\n",
       "      <td>22</td>\n",
       "      <td>11</td>\n",
       "      <td>16</td>\n",
       "      <td>25</td>\n",
       "      <td>12</td>\n",
       "      <td>14</td>\n",
       "      <td>13</td>\n",
       "    </tr>\n",
       "    <tr>\n",
       "      <th>3536</th>\n",
       "      <td>/usr/bin/db5.3/db_dump</td>\n",
       "      <td>373</td>\n",
       "      <td>51</td>\n",
       "      <td>102</td>\n",
       "      <td>39</td>\n",
       "      <td>9</td>\n",
       "      <td>50</td>\n",
       "      <td>52</td>\n",
       "      <td>19</td>\n",
       "      <td>8</td>\n",
       "      <td>20</td>\n",
       "    </tr>\n",
       "    <tr>\n",
       "      <th>3537</th>\n",
       "      <td>/usr/bin/db5.3/db_printlog</td>\n",
       "      <td>829</td>\n",
       "      <td>217</td>\n",
       "      <td>178</td>\n",
       "      <td>49</td>\n",
       "      <td>22</td>\n",
       "      <td>137</td>\n",
       "      <td>124</td>\n",
       "      <td>33</td>\n",
       "      <td>13</td>\n",
       "      <td>29</td>\n",
       "    </tr>\n",
       "  </tbody>\n",
       "</table>\n",
       "<p>3538 rows × 11 columns</p>\n",
       "</div>"
      ],
      "text/plain": [
       "                                               filename    mov   lea  call  \\\n",
       "0                                   /usr/bin/python3.10      8     5     4   \n",
       "1     /usr/lib/python3.10/lib-dynload/_heapq.cpython...   1002   215   173   \n",
       "2     /DataCollection/venv/lib/python3.10/site-packa...   3011   591   614   \n",
       "3     /DataCollection/venv/lib/python3.10/site-packa...  32480  3260  7002   \n",
       "4     /usr/lib/python3.10/lib-dynload/cmath.cpython-...    542   125   391   \n",
       "...                                                 ...    ...   ...   ...   \n",
       "3533                          /usr/bin/db5.3/db_upgrade    174    30    60   \n",
       "3534                             /usr/bin/db5.3/db_load   1062   193   280   \n",
       "3535                          /usr/bin/db5.3/db_recover    170    39    58   \n",
       "3536                             /usr/bin/db5.3/db_dump    373    51   102   \n",
       "3537                         /usr/bin/db5.3/db_printlog    829   217   178   \n",
       "\n",
       "        je   cmp  test   jmp   pop   add  push  \n",
       "0        6     1     3     4     2     3     3  \n",
       "1      131   103    97   154    54    50    54  \n",
       "2      546   360   423   768   470   464   370  \n",
       "3     7048  3289  5651  6523  1366  1164  1379  \n",
       "4      171    26    81   334    70    80    40  \n",
       "...    ...   ...   ...   ...   ...   ...   ...  \n",
       "3533    20     7    22    24    12     8    13  \n",
       "3534   180    87   214   171    49    31    35  \n",
       "3535    22    11    16    25    12    14    13  \n",
       "3536    39     9    50    52    19     8    20  \n",
       "3537    49    22   137   124    33    13    29  \n",
       "\n",
       "[3538 rows x 11 columns]"
      ]
     },
     "execution_count": 13,
     "metadata": {},
     "output_type": "execute_result"
    }
   ],
   "source": [
    "top_popular(\"m\")"
   ]
  },
  {
   "cell_type": "markdown",
   "id": "d97a4a49",
   "metadata": {},
   "source": [
    "##### How to add a dataframe to the scope? "
   ]
  },
  {
   "cell_type": "code",
   "execution_count": 14,
   "id": "64d6f8b8",
   "metadata": {},
   "outputs": [],
   "source": [
    "add_df(\"top10manjaro\", top_popular(\"m\"))"
   ]
  },
  {
   "cell_type": "markdown",
   "id": "b263e613",
   "metadata": {},
   "source": [
    "##### How to get a dataframe from the scope? "
   ]
  },
  {
   "cell_type": "code",
   "execution_count": 15,
   "id": "c70b6a03",
   "metadata": {},
   "outputs": [
    {
     "data": {
      "text/html": [
       "<div>\n",
       "<style scoped>\n",
       "    .dataframe tbody tr th:only-of-type {\n",
       "        vertical-align: middle;\n",
       "    }\n",
       "\n",
       "    .dataframe tbody tr th {\n",
       "        vertical-align: top;\n",
       "    }\n",
       "\n",
       "    .dataframe thead th {\n",
       "        text-align: right;\n",
       "    }\n",
       "</style>\n",
       "<table border=\"1\" class=\"dataframe\">\n",
       "  <thead>\n",
       "    <tr style=\"text-align: right;\">\n",
       "      <th></th>\n",
       "      <th>filename</th>\n",
       "      <th>mov</th>\n",
       "      <th>lea</th>\n",
       "      <th>call</th>\n",
       "      <th>je</th>\n",
       "      <th>cmp</th>\n",
       "      <th>test</th>\n",
       "      <th>jmp</th>\n",
       "      <th>pop</th>\n",
       "      <th>add</th>\n",
       "      <th>push</th>\n",
       "    </tr>\n",
       "  </thead>\n",
       "  <tbody>\n",
       "    <tr>\n",
       "      <th>0</th>\n",
       "      <td>/usr/bin/python3.10</td>\n",
       "      <td>8</td>\n",
       "      <td>5</td>\n",
       "      <td>4</td>\n",
       "      <td>6</td>\n",
       "      <td>1</td>\n",
       "      <td>3</td>\n",
       "      <td>4</td>\n",
       "      <td>2</td>\n",
       "      <td>3</td>\n",
       "      <td>3</td>\n",
       "    </tr>\n",
       "    <tr>\n",
       "      <th>1</th>\n",
       "      <td>/usr/lib/python3.10/lib-dynload/_heapq.cpython...</td>\n",
       "      <td>1002</td>\n",
       "      <td>215</td>\n",
       "      <td>173</td>\n",
       "      <td>131</td>\n",
       "      <td>103</td>\n",
       "      <td>97</td>\n",
       "      <td>154</td>\n",
       "      <td>54</td>\n",
       "      <td>50</td>\n",
       "      <td>54</td>\n",
       "    </tr>\n",
       "    <tr>\n",
       "      <th>2</th>\n",
       "      <td>/DataCollection/venv/lib/python3.10/site-packa...</td>\n",
       "      <td>3011</td>\n",
       "      <td>591</td>\n",
       "      <td>614</td>\n",
       "      <td>546</td>\n",
       "      <td>360</td>\n",
       "      <td>423</td>\n",
       "      <td>768</td>\n",
       "      <td>470</td>\n",
       "      <td>464</td>\n",
       "      <td>370</td>\n",
       "    </tr>\n",
       "    <tr>\n",
       "      <th>3</th>\n",
       "      <td>/DataCollection/venv/lib/python3.10/site-packa...</td>\n",
       "      <td>32480</td>\n",
       "      <td>3260</td>\n",
       "      <td>7002</td>\n",
       "      <td>7048</td>\n",
       "      <td>3289</td>\n",
       "      <td>5651</td>\n",
       "      <td>6523</td>\n",
       "      <td>1366</td>\n",
       "      <td>1164</td>\n",
       "      <td>1379</td>\n",
       "    </tr>\n",
       "    <tr>\n",
       "      <th>4</th>\n",
       "      <td>/usr/lib/python3.10/lib-dynload/cmath.cpython-...</td>\n",
       "      <td>542</td>\n",
       "      <td>125</td>\n",
       "      <td>391</td>\n",
       "      <td>171</td>\n",
       "      <td>26</td>\n",
       "      <td>81</td>\n",
       "      <td>334</td>\n",
       "      <td>70</td>\n",
       "      <td>80</td>\n",
       "      <td>40</td>\n",
       "    </tr>\n",
       "    <tr>\n",
       "      <th>...</th>\n",
       "      <td>...</td>\n",
       "      <td>...</td>\n",
       "      <td>...</td>\n",
       "      <td>...</td>\n",
       "      <td>...</td>\n",
       "      <td>...</td>\n",
       "      <td>...</td>\n",
       "      <td>...</td>\n",
       "      <td>...</td>\n",
       "      <td>...</td>\n",
       "      <td>...</td>\n",
       "    </tr>\n",
       "    <tr>\n",
       "      <th>3533</th>\n",
       "      <td>/usr/bin/db5.3/db_upgrade</td>\n",
       "      <td>174</td>\n",
       "      <td>30</td>\n",
       "      <td>60</td>\n",
       "      <td>20</td>\n",
       "      <td>7</td>\n",
       "      <td>22</td>\n",
       "      <td>24</td>\n",
       "      <td>12</td>\n",
       "      <td>8</td>\n",
       "      <td>13</td>\n",
       "    </tr>\n",
       "    <tr>\n",
       "      <th>3534</th>\n",
       "      <td>/usr/bin/db5.3/db_load</td>\n",
       "      <td>1062</td>\n",
       "      <td>193</td>\n",
       "      <td>280</td>\n",
       "      <td>180</td>\n",
       "      <td>87</td>\n",
       "      <td>214</td>\n",
       "      <td>171</td>\n",
       "      <td>49</td>\n",
       "      <td>31</td>\n",
       "      <td>35</td>\n",
       "    </tr>\n",
       "    <tr>\n",
       "      <th>3535</th>\n",
       "      <td>/usr/bin/db5.3/db_recover</td>\n",
       "      <td>170</td>\n",
       "      <td>39</td>\n",
       "      <td>58</td>\n",
       "      <td>22</td>\n",
       "      <td>11</td>\n",
       "      <td>16</td>\n",
       "      <td>25</td>\n",
       "      <td>12</td>\n",
       "      <td>14</td>\n",
       "      <td>13</td>\n",
       "    </tr>\n",
       "    <tr>\n",
       "      <th>3536</th>\n",
       "      <td>/usr/bin/db5.3/db_dump</td>\n",
       "      <td>373</td>\n",
       "      <td>51</td>\n",
       "      <td>102</td>\n",
       "      <td>39</td>\n",
       "      <td>9</td>\n",
       "      <td>50</td>\n",
       "      <td>52</td>\n",
       "      <td>19</td>\n",
       "      <td>8</td>\n",
       "      <td>20</td>\n",
       "    </tr>\n",
       "    <tr>\n",
       "      <th>3537</th>\n",
       "      <td>/usr/bin/db5.3/db_printlog</td>\n",
       "      <td>829</td>\n",
       "      <td>217</td>\n",
       "      <td>178</td>\n",
       "      <td>49</td>\n",
       "      <td>22</td>\n",
       "      <td>137</td>\n",
       "      <td>124</td>\n",
       "      <td>33</td>\n",
       "      <td>13</td>\n",
       "      <td>29</td>\n",
       "    </tr>\n",
       "  </tbody>\n",
       "</table>\n",
       "<p>3538 rows × 11 columns</p>\n",
       "</div>"
      ],
      "text/plain": [
       "                                               filename    mov   lea  call  \\\n",
       "0                                   /usr/bin/python3.10      8     5     4   \n",
       "1     /usr/lib/python3.10/lib-dynload/_heapq.cpython...   1002   215   173   \n",
       "2     /DataCollection/venv/lib/python3.10/site-packa...   3011   591   614   \n",
       "3     /DataCollection/venv/lib/python3.10/site-packa...  32480  3260  7002   \n",
       "4     /usr/lib/python3.10/lib-dynload/cmath.cpython-...    542   125   391   \n",
       "...                                                 ...    ...   ...   ...   \n",
       "3533                          /usr/bin/db5.3/db_upgrade    174    30    60   \n",
       "3534                             /usr/bin/db5.3/db_load   1062   193   280   \n",
       "3535                          /usr/bin/db5.3/db_recover    170    39    58   \n",
       "3536                             /usr/bin/db5.3/db_dump    373    51   102   \n",
       "3537                         /usr/bin/db5.3/db_printlog    829   217   178   \n",
       "\n",
       "        je   cmp  test   jmp   pop   add  push  \n",
       "0        6     1     3     4     2     3     3  \n",
       "1      131   103    97   154    54    50    54  \n",
       "2      546   360   423   768   470   464   370  \n",
       "3     7048  3289  5651  6523  1366  1164  1379  \n",
       "4      171    26    81   334    70    80    40  \n",
       "...    ...   ...   ...   ...   ...   ...   ...  \n",
       "3533    20     7    22    24    12     8    13  \n",
       "3534   180    87   214   171    49    31    35  \n",
       "3535    22    11    16    25    12    14    13  \n",
       "3536    39     9    50    52    19     8    20  \n",
       "3537    49    22   137   124    33    13    29  \n",
       "\n",
       "[3538 rows x 11 columns]"
      ]
     },
     "execution_count": 15,
     "metadata": {},
     "output_type": "execute_result"
    }
   ],
   "source": [
    "get_df(\"top10m\")"
   ]
  },
  {
   "cell_type": "code",
   "execution_count": 16,
   "id": "c325c85d",
   "metadata": {},
   "outputs": [
    {
     "data": {
      "text/plain": [
       "['filename',\n",
       " 'mov',\n",
       " 'lea',\n",
       " 'call',\n",
       " 'je',\n",
       " 'cmp',\n",
       " 'test',\n",
       " 'jmp',\n",
       " 'pop',\n",
       " 'add',\n",
       " 'push']"
      ]
     },
     "execution_count": 16,
     "metadata": {},
     "output_type": "execute_result"
    }
   ],
   "source": [
    "list(get_df(\"top10m\").columns)"
   ]
  },
  {
   "cell_type": "markdown",
   "id": "bf415b37",
   "metadata": {},
   "source": [
    "#### How to figure out top 10 the rarest instructions in Ubuntu?"
   ]
  },
  {
   "cell_type": "code",
   "execution_count": 17,
   "id": "22225a49",
   "metadata": {},
   "outputs": [
    {
     "data": {
      "text/html": [
       "<div>\n",
       "<style scoped>\n",
       "    .dataframe tbody tr th:only-of-type {\n",
       "        vertical-align: middle;\n",
       "    }\n",
       "\n",
       "    .dataframe tbody tr th {\n",
       "        vertical-align: top;\n",
       "    }\n",
       "\n",
       "    .dataframe thead th {\n",
       "        text-align: right;\n",
       "    }\n",
       "</style>\n",
       "<table border=\"1\" class=\"dataframe\">\n",
       "  <thead>\n",
       "    <tr style=\"text-align: right;\">\n",
       "      <th></th>\n",
       "      <th>filename</th>\n",
       "      <th>str</th>\n",
       "      <th>insw</th>\n",
       "      <th>bndstx</th>\n",
       "      <th>cmpps</th>\n",
       "      <th>lfs</th>\n",
       "      <th>wbinvd</th>\n",
       "      <th>popfw</th>\n",
       "      <th>xrelease</th>\n",
       "      <th>retw</th>\n",
       "      <th>pushw</th>\n",
       "    </tr>\n",
       "  </thead>\n",
       "  <tbody>\n",
       "    <tr>\n",
       "      <th>0</th>\n",
       "      <td>/usr/bin/dash</td>\n",
       "      <td>0</td>\n",
       "      <td>0</td>\n",
       "      <td>0</td>\n",
       "      <td>0</td>\n",
       "      <td>0</td>\n",
       "      <td>0</td>\n",
       "      <td>0</td>\n",
       "      <td>0</td>\n",
       "      <td>0</td>\n",
       "      <td>0</td>\n",
       "    </tr>\n",
       "    <tr>\n",
       "      <th>1</th>\n",
       "      <td>/usr/lib/x86_64-linux-gnu/libc.so.6</td>\n",
       "      <td>0</td>\n",
       "      <td>0</td>\n",
       "      <td>0</td>\n",
       "      <td>0</td>\n",
       "      <td>0</td>\n",
       "      <td>0</td>\n",
       "      <td>0</td>\n",
       "      <td>0</td>\n",
       "      <td>0</td>\n",
       "      <td>0</td>\n",
       "    </tr>\n",
       "    <tr>\n",
       "      <th>2</th>\n",
       "      <td>/usr/lib/x86_64-linux-gnu/ld-linux-x86-64.so.2</td>\n",
       "      <td>0</td>\n",
       "      <td>0</td>\n",
       "      <td>0</td>\n",
       "      <td>0</td>\n",
       "      <td>0</td>\n",
       "      <td>0</td>\n",
       "      <td>0</td>\n",
       "      <td>0</td>\n",
       "      <td>0</td>\n",
       "      <td>0</td>\n",
       "    </tr>\n",
       "    <tr>\n",
       "      <th>3</th>\n",
       "      <td>/usr/bin/python3.10</td>\n",
       "      <td>0</td>\n",
       "      <td>0</td>\n",
       "      <td>0</td>\n",
       "      <td>0</td>\n",
       "      <td>0</td>\n",
       "      <td>0</td>\n",
       "      <td>0</td>\n",
       "      <td>0</td>\n",
       "      <td>0</td>\n",
       "      <td>0</td>\n",
       "    </tr>\n",
       "    <tr>\n",
       "      <th>4</th>\n",
       "      <td>/DataCollection/venv/lib/python3.10/site-packa...</td>\n",
       "      <td>0</td>\n",
       "      <td>0</td>\n",
       "      <td>0</td>\n",
       "      <td>0</td>\n",
       "      <td>0</td>\n",
       "      <td>0</td>\n",
       "      <td>0</td>\n",
       "      <td>0</td>\n",
       "      <td>0</td>\n",
       "      <td>0</td>\n",
       "    </tr>\n",
       "    <tr>\n",
       "      <th>...</th>\n",
       "      <td>...</td>\n",
       "      <td>...</td>\n",
       "      <td>...</td>\n",
       "      <td>...</td>\n",
       "      <td>...</td>\n",
       "      <td>...</td>\n",
       "      <td>...</td>\n",
       "      <td>...</td>\n",
       "      <td>...</td>\n",
       "      <td>...</td>\n",
       "      <td>...</td>\n",
       "    </tr>\n",
       "    <tr>\n",
       "      <th>3032</th>\n",
       "      <td>/usr/sbin/blockdev</td>\n",
       "      <td>0</td>\n",
       "      <td>0</td>\n",
       "      <td>0</td>\n",
       "      <td>0</td>\n",
       "      <td>0</td>\n",
       "      <td>0</td>\n",
       "      <td>0</td>\n",
       "      <td>0</td>\n",
       "      <td>0</td>\n",
       "      <td>0</td>\n",
       "    </tr>\n",
       "    <tr>\n",
       "      <th>3033</th>\n",
       "      <td>/usr/sbin/mkfs.minix</td>\n",
       "      <td>0</td>\n",
       "      <td>0</td>\n",
       "      <td>0</td>\n",
       "      <td>0</td>\n",
       "      <td>0</td>\n",
       "      <td>0</td>\n",
       "      <td>0</td>\n",
       "      <td>0</td>\n",
       "      <td>0</td>\n",
       "      <td>0</td>\n",
       "    </tr>\n",
       "    <tr>\n",
       "      <th>3034</th>\n",
       "      <td>/usr/sbin/mount.fuse3</td>\n",
       "      <td>0</td>\n",
       "      <td>0</td>\n",
       "      <td>0</td>\n",
       "      <td>0</td>\n",
       "      <td>0</td>\n",
       "      <td>0</td>\n",
       "      <td>0</td>\n",
       "      <td>0</td>\n",
       "      <td>0</td>\n",
       "      <td>0</td>\n",
       "    </tr>\n",
       "    <tr>\n",
       "      <th>3035</th>\n",
       "      <td>/usr/sbin/usbmuxd</td>\n",
       "      <td>0</td>\n",
       "      <td>0</td>\n",
       "      <td>0</td>\n",
       "      <td>0</td>\n",
       "      <td>0</td>\n",
       "      <td>0</td>\n",
       "      <td>0</td>\n",
       "      <td>0</td>\n",
       "      <td>0</td>\n",
       "      <td>0</td>\n",
       "    </tr>\n",
       "    <tr>\n",
       "      <th>3036</th>\n",
       "      <td>/usr/sbin/dmsetup</td>\n",
       "      <td>0</td>\n",
       "      <td>0</td>\n",
       "      <td>0</td>\n",
       "      <td>0</td>\n",
       "      <td>0</td>\n",
       "      <td>0</td>\n",
       "      <td>0</td>\n",
       "      <td>0</td>\n",
       "      <td>0</td>\n",
       "      <td>0</td>\n",
       "    </tr>\n",
       "  </tbody>\n",
       "</table>\n",
       "<p>3037 rows × 11 columns</p>\n",
       "</div>"
      ],
      "text/plain": [
       "                                               filename  str  insw  bndstx  \\\n",
       "0                                         /usr/bin/dash    0     0       0   \n",
       "1                   /usr/lib/x86_64-linux-gnu/libc.so.6    0     0       0   \n",
       "2        /usr/lib/x86_64-linux-gnu/ld-linux-x86-64.so.2    0     0       0   \n",
       "3                                   /usr/bin/python3.10    0     0       0   \n",
       "4     /DataCollection/venv/lib/python3.10/site-packa...    0     0       0   \n",
       "...                                                 ...  ...   ...     ...   \n",
       "3032                                 /usr/sbin/blockdev    0     0       0   \n",
       "3033                               /usr/sbin/mkfs.minix    0     0       0   \n",
       "3034                              /usr/sbin/mount.fuse3    0     0       0   \n",
       "3035                                  /usr/sbin/usbmuxd    0     0       0   \n",
       "3036                                  /usr/sbin/dmsetup    0     0       0   \n",
       "\n",
       "      cmpps  lfs  wbinvd  popfw  xrelease  retw  pushw  \n",
       "0         0    0       0      0         0     0      0  \n",
       "1         0    0       0      0         0     0      0  \n",
       "2         0    0       0      0         0     0      0  \n",
       "3         0    0       0      0         0     0      0  \n",
       "4         0    0       0      0         0     0      0  \n",
       "...     ...  ...     ...    ...       ...   ...    ...  \n",
       "3032      0    0       0      0         0     0      0  \n",
       "3033      0    0       0      0         0     0      0  \n",
       "3034      0    0       0      0         0     0      0  \n",
       "3035      0    0       0      0         0     0      0  \n",
       "3036      0    0       0      0         0     0      0  \n",
       "\n",
       "[3037 rows x 11 columns]"
      ]
     },
     "execution_count": 17,
     "metadata": {},
     "output_type": "execute_result"
    }
   ],
   "source": [
    "top_rare(\"u\")"
   ]
  },
  {
   "cell_type": "code",
   "execution_count": 18,
   "id": "4fc47908",
   "metadata": {},
   "outputs": [],
   "source": [
    "add_df(\"top10ubuntu\", top_rare(\"u\"))"
   ]
  },
  {
   "cell_type": "code",
   "execution_count": 19,
   "id": "04b2c57e",
   "metadata": {},
   "outputs": [
    {
     "data": {
      "text/plain": [
       "['filename',\n",
       " 'str',\n",
       " 'insw',\n",
       " 'bndstx',\n",
       " 'cmpps',\n",
       " 'lfs',\n",
       " 'wbinvd',\n",
       " 'popfw',\n",
       " 'xrelease',\n",
       " 'retw',\n",
       " 'pushw']"
      ]
     },
     "execution_count": 19,
     "metadata": {},
     "output_type": "execute_result"
    }
   ],
   "source": [
    "list(get_df(\"top10u\").columns)"
   ]
  },
  {
   "cell_type": "markdown",
   "id": "a1512e70",
   "metadata": {},
   "source": [
    "#### How to find out information about the instruction?"
   ]
  },
  {
   "cell_type": "code",
   "execution_count": 22,
   "id": "eb6cd134",
   "metadata": {},
   "outputs": [
    {
     "data": {
      "application/javascript": [
       "window.open(\"../x86doc/html/LDS_LES_LFS_LGS_LSS.html\");"
      ],
      "text/plain": [
       "<IPython.core.display.Javascript object>"
      ]
     },
     "metadata": {},
     "output_type": "display_data"
    }
   ],
   "source": [
    "what_is_instruction(\"lfs\")  # Opens a new tab"
   ]
  },
  {
   "cell_type": "markdown",
   "id": "eb9c008a",
   "metadata": {},
   "source": [
    "#### How to remove a dataframe from the scope?"
   ]
  },
  {
   "cell_type": "code",
   "execution_count": null,
   "id": "f5224046",
   "metadata": {},
   "outputs": [],
   "source": [
    "remove_df(\"top10m\")"
   ]
  },
  {
   "cell_type": "markdown",
   "id": "2a9a25be",
   "metadata": {},
   "source": [
    "##### How to get a list of dataframes in the scope?"
   ]
  },
  {
   "cell_type": "code",
   "execution_count": null,
   "id": "fef1e6cb",
   "metadata": {},
   "outputs": [],
   "source": [
    "dfs_list()"
   ]
  },
  {
   "cell_type": "code",
   "execution_count": null,
   "id": "96cae53a",
   "metadata": {},
   "outputs": [],
   "source": [
    "remove_df(\"top10u\")"
   ]
  },
  {
   "cell_type": "markdown",
   "id": "893cf976",
   "metadata": {},
   "source": [
    "### Build a histogram of the total instruction category usage"
   ]
  },
  {
   "cell_type": "code",
   "execution_count": 24,
   "id": "cacd4cd7",
   "metadata": {},
   "outputs": [
    {
     "data": {
      "application/vnd.plotly.v1+json": {
       "config": {
        "plotlyServerURL": "https://plot.ly"
       },
       "data": [
        {
         "alignmentgroup": "True",
         "bingroup": "x",
         "histfunc": "sum",
         "histnorm": "percent",
         "hovertemplate": "variable=ubuntu_categories<br>index=%{x}<br>percent of sum of value=%{y}<extra></extra>",
         "legendgroup": "ubuntu_categories",
         "marker": {
          "color": "#636efa",
          "pattern": {
           "shape": ""
          }
         },
         "name": "ubuntu_categories",
         "offsetgroup": "ubuntu_categories",
         "orientation": "v",
         "showlegend": true,
         "type": "histogram",
         "x": [
          "Central Processing Unit (CPU) instructions set",
          "Other",
          "Single Instruction Multiple Data (SIMD) instructions set",
          "Floating-Point Unit (FPU) instructions set",
          "Advanced Encryption Standard (AES) instructions set",
          "Transactional Synchronization Extensions (TSX) instructions set",
          "Memory Protection Extensions (MPX) instructions set",
          "Virtual Machine Extensions (VMX) instructions set"
         ],
         "xaxis": "x",
         "y": [
          175410372,
          16604584,
          2841192,
          107178,
          2710,
          195,
          5,
          4
         ],
         "yaxis": "y"
        },
        {
         "alignmentgroup": "True",
         "bingroup": "x",
         "histfunc": "sum",
         "histnorm": "percent",
         "hovertemplate": "variable=manjaro_categories<br>index=%{x}<br>percent of sum of value=%{y}<extra></extra>",
         "legendgroup": "manjaro_categories",
         "marker": {
          "color": "#EF553B",
          "pattern": {
           "shape": ""
          }
         },
         "name": "manjaro_categories",
         "offsetgroup": "manjaro_categories",
         "orientation": "v",
         "showlegend": true,
         "type": "histogram",
         "x": [
          "Central Processing Unit (CPU) instructions set",
          "Other",
          "Single Instruction Multiple Data (SIMD) instructions set",
          "Floating-Point Unit (FPU) instructions set",
          "Advanced Encryption Standard (AES) instructions set",
          "Transactional Synchronization Extensions (TSX) instructions set",
          "Memory Protection Extensions (MPX) instructions set",
          "Virtual Machine Extensions (VMX) instructions set"
         ],
         "xaxis": "x",
         "y": [
          220473607,
          24024003,
          3489780,
          90635,
          4169,
          189,
          8,
          4
         ],
         "yaxis": "y"
        },
        {
         "alignmentgroup": "True",
         "bingroup": "x",
         "histfunc": "sum",
         "histnorm": "percent",
         "hovertemplate": "variable=opensuse_categories<br>index=%{x}<br>percent of sum of value=%{y}<extra></extra>",
         "legendgroup": "opensuse_categories",
         "marker": {
          "color": "#00cc96",
          "pattern": {
           "shape": ""
          }
         },
         "name": "opensuse_categories",
         "offsetgroup": "opensuse_categories",
         "orientation": "v",
         "showlegend": true,
         "type": "histogram",
         "x": [
          "Central Processing Unit (CPU) instructions set",
          "Other",
          "Single Instruction Multiple Data (SIMD) instructions set",
          "Floating-Point Unit (FPU) instructions set",
          "Advanced Encryption Standard (AES) instructions set",
          "Transactional Synchronization Extensions (TSX) instructions set",
          "Memory Protection Extensions (MPX) instructions set",
          "Virtual Machine Extensions (VMX) instructions set"
         ],
         "xaxis": "x",
         "y": [
          191887696,
          15461454,
          2161179,
          58391,
          5520,
          130,
          8,
          6
         ],
         "yaxis": "y"
        }
       ],
       "layout": {
        "barmode": "group",
        "legend": {
         "orientation": "h",
         "title": {
          "text": "variable"
         },
         "tracegroupgap": 0,
         "x": 0,
         "xanchor": "left",
         "y": 1.02,
         "yanchor": "bottom"
        },
        "margin": {
         "t": 60
        },
        "template": {
         "data": {
          "bar": [
           {
            "error_x": {
             "color": "#2a3f5f"
            },
            "error_y": {
             "color": "#2a3f5f"
            },
            "marker": {
             "line": {
              "color": "#E5ECF6",
              "width": 0.5
             },
             "pattern": {
              "fillmode": "overlay",
              "size": 10,
              "solidity": 0.2
             }
            },
            "type": "bar"
           }
          ],
          "barpolar": [
           {
            "marker": {
             "line": {
              "color": "#E5ECF6",
              "width": 0.5
             },
             "pattern": {
              "fillmode": "overlay",
              "size": 10,
              "solidity": 0.2
             }
            },
            "type": "barpolar"
           }
          ],
          "carpet": [
           {
            "aaxis": {
             "endlinecolor": "#2a3f5f",
             "gridcolor": "white",
             "linecolor": "white",
             "minorgridcolor": "white",
             "startlinecolor": "#2a3f5f"
            },
            "baxis": {
             "endlinecolor": "#2a3f5f",
             "gridcolor": "white",
             "linecolor": "white",
             "minorgridcolor": "white",
             "startlinecolor": "#2a3f5f"
            },
            "type": "carpet"
           }
          ],
          "choropleth": [
           {
            "colorbar": {
             "outlinewidth": 0,
             "ticks": ""
            },
            "type": "choropleth"
           }
          ],
          "contour": [
           {
            "colorbar": {
             "outlinewidth": 0,
             "ticks": ""
            },
            "colorscale": [
             [
              0,
              "#0d0887"
             ],
             [
              0.1111111111111111,
              "#46039f"
             ],
             [
              0.2222222222222222,
              "#7201a8"
             ],
             [
              0.3333333333333333,
              "#9c179e"
             ],
             [
              0.4444444444444444,
              "#bd3786"
             ],
             [
              0.5555555555555556,
              "#d8576b"
             ],
             [
              0.6666666666666666,
              "#ed7953"
             ],
             [
              0.7777777777777778,
              "#fb9f3a"
             ],
             [
              0.8888888888888888,
              "#fdca26"
             ],
             [
              1,
              "#f0f921"
             ]
            ],
            "type": "contour"
           }
          ],
          "contourcarpet": [
           {
            "colorbar": {
             "outlinewidth": 0,
             "ticks": ""
            },
            "type": "contourcarpet"
           }
          ],
          "heatmap": [
           {
            "colorbar": {
             "outlinewidth": 0,
             "ticks": ""
            },
            "colorscale": [
             [
              0,
              "#0d0887"
             ],
             [
              0.1111111111111111,
              "#46039f"
             ],
             [
              0.2222222222222222,
              "#7201a8"
             ],
             [
              0.3333333333333333,
              "#9c179e"
             ],
             [
              0.4444444444444444,
              "#bd3786"
             ],
             [
              0.5555555555555556,
              "#d8576b"
             ],
             [
              0.6666666666666666,
              "#ed7953"
             ],
             [
              0.7777777777777778,
              "#fb9f3a"
             ],
             [
              0.8888888888888888,
              "#fdca26"
             ],
             [
              1,
              "#f0f921"
             ]
            ],
            "type": "heatmap"
           }
          ],
          "heatmapgl": [
           {
            "colorbar": {
             "outlinewidth": 0,
             "ticks": ""
            },
            "colorscale": [
             [
              0,
              "#0d0887"
             ],
             [
              0.1111111111111111,
              "#46039f"
             ],
             [
              0.2222222222222222,
              "#7201a8"
             ],
             [
              0.3333333333333333,
              "#9c179e"
             ],
             [
              0.4444444444444444,
              "#bd3786"
             ],
             [
              0.5555555555555556,
              "#d8576b"
             ],
             [
              0.6666666666666666,
              "#ed7953"
             ],
             [
              0.7777777777777778,
              "#fb9f3a"
             ],
             [
              0.8888888888888888,
              "#fdca26"
             ],
             [
              1,
              "#f0f921"
             ]
            ],
            "type": "heatmapgl"
           }
          ],
          "histogram": [
           {
            "marker": {
             "pattern": {
              "fillmode": "overlay",
              "size": 10,
              "solidity": 0.2
             }
            },
            "type": "histogram"
           }
          ],
          "histogram2d": [
           {
            "colorbar": {
             "outlinewidth": 0,
             "ticks": ""
            },
            "colorscale": [
             [
              0,
              "#0d0887"
             ],
             [
              0.1111111111111111,
              "#46039f"
             ],
             [
              0.2222222222222222,
              "#7201a8"
             ],
             [
              0.3333333333333333,
              "#9c179e"
             ],
             [
              0.4444444444444444,
              "#bd3786"
             ],
             [
              0.5555555555555556,
              "#d8576b"
             ],
             [
              0.6666666666666666,
              "#ed7953"
             ],
             [
              0.7777777777777778,
              "#fb9f3a"
             ],
             [
              0.8888888888888888,
              "#fdca26"
             ],
             [
              1,
              "#f0f921"
             ]
            ],
            "type": "histogram2d"
           }
          ],
          "histogram2dcontour": [
           {
            "colorbar": {
             "outlinewidth": 0,
             "ticks": ""
            },
            "colorscale": [
             [
              0,
              "#0d0887"
             ],
             [
              0.1111111111111111,
              "#46039f"
             ],
             [
              0.2222222222222222,
              "#7201a8"
             ],
             [
              0.3333333333333333,
              "#9c179e"
             ],
             [
              0.4444444444444444,
              "#bd3786"
             ],
             [
              0.5555555555555556,
              "#d8576b"
             ],
             [
              0.6666666666666666,
              "#ed7953"
             ],
             [
              0.7777777777777778,
              "#fb9f3a"
             ],
             [
              0.8888888888888888,
              "#fdca26"
             ],
             [
              1,
              "#f0f921"
             ]
            ],
            "type": "histogram2dcontour"
           }
          ],
          "mesh3d": [
           {
            "colorbar": {
             "outlinewidth": 0,
             "ticks": ""
            },
            "type": "mesh3d"
           }
          ],
          "parcoords": [
           {
            "line": {
             "colorbar": {
              "outlinewidth": 0,
              "ticks": ""
             }
            },
            "type": "parcoords"
           }
          ],
          "pie": [
           {
            "automargin": true,
            "type": "pie"
           }
          ],
          "scatter": [
           {
            "fillpattern": {
             "fillmode": "overlay",
             "size": 10,
             "solidity": 0.2
            },
            "type": "scatter"
           }
          ],
          "scatter3d": [
           {
            "line": {
             "colorbar": {
              "outlinewidth": 0,
              "ticks": ""
             }
            },
            "marker": {
             "colorbar": {
              "outlinewidth": 0,
              "ticks": ""
             }
            },
            "type": "scatter3d"
           }
          ],
          "scattercarpet": [
           {
            "marker": {
             "colorbar": {
              "outlinewidth": 0,
              "ticks": ""
             }
            },
            "type": "scattercarpet"
           }
          ],
          "scattergeo": [
           {
            "marker": {
             "colorbar": {
              "outlinewidth": 0,
              "ticks": ""
             }
            },
            "type": "scattergeo"
           }
          ],
          "scattergl": [
           {
            "marker": {
             "colorbar": {
              "outlinewidth": 0,
              "ticks": ""
             }
            },
            "type": "scattergl"
           }
          ],
          "scattermapbox": [
           {
            "marker": {
             "colorbar": {
              "outlinewidth": 0,
              "ticks": ""
             }
            },
            "type": "scattermapbox"
           }
          ],
          "scatterpolar": [
           {
            "marker": {
             "colorbar": {
              "outlinewidth": 0,
              "ticks": ""
             }
            },
            "type": "scatterpolar"
           }
          ],
          "scatterpolargl": [
           {
            "marker": {
             "colorbar": {
              "outlinewidth": 0,
              "ticks": ""
             }
            },
            "type": "scatterpolargl"
           }
          ],
          "scatterternary": [
           {
            "marker": {
             "colorbar": {
              "outlinewidth": 0,
              "ticks": ""
             }
            },
            "type": "scatterternary"
           }
          ],
          "surface": [
           {
            "colorbar": {
             "outlinewidth": 0,
             "ticks": ""
            },
            "colorscale": [
             [
              0,
              "#0d0887"
             ],
             [
              0.1111111111111111,
              "#46039f"
             ],
             [
              0.2222222222222222,
              "#7201a8"
             ],
             [
              0.3333333333333333,
              "#9c179e"
             ],
             [
              0.4444444444444444,
              "#bd3786"
             ],
             [
              0.5555555555555556,
              "#d8576b"
             ],
             [
              0.6666666666666666,
              "#ed7953"
             ],
             [
              0.7777777777777778,
              "#fb9f3a"
             ],
             [
              0.8888888888888888,
              "#fdca26"
             ],
             [
              1,
              "#f0f921"
             ]
            ],
            "type": "surface"
           }
          ],
          "table": [
           {
            "cells": {
             "fill": {
              "color": "#EBF0F8"
             },
             "line": {
              "color": "white"
             }
            },
            "header": {
             "fill": {
              "color": "#C8D4E3"
             },
             "line": {
              "color": "white"
             }
            },
            "type": "table"
           }
          ]
         },
         "layout": {
          "annotationdefaults": {
           "arrowcolor": "#2a3f5f",
           "arrowhead": 0,
           "arrowwidth": 1
          },
          "autotypenumbers": "strict",
          "coloraxis": {
           "colorbar": {
            "outlinewidth": 0,
            "ticks": ""
           }
          },
          "colorscale": {
           "diverging": [
            [
             0,
             "#8e0152"
            ],
            [
             0.1,
             "#c51b7d"
            ],
            [
             0.2,
             "#de77ae"
            ],
            [
             0.3,
             "#f1b6da"
            ],
            [
             0.4,
             "#fde0ef"
            ],
            [
             0.5,
             "#f7f7f7"
            ],
            [
             0.6,
             "#e6f5d0"
            ],
            [
             0.7,
             "#b8e186"
            ],
            [
             0.8,
             "#7fbc41"
            ],
            [
             0.9,
             "#4d9221"
            ],
            [
             1,
             "#276419"
            ]
           ],
           "sequential": [
            [
             0,
             "#0d0887"
            ],
            [
             0.1111111111111111,
             "#46039f"
            ],
            [
             0.2222222222222222,
             "#7201a8"
            ],
            [
             0.3333333333333333,
             "#9c179e"
            ],
            [
             0.4444444444444444,
             "#bd3786"
            ],
            [
             0.5555555555555556,
             "#d8576b"
            ],
            [
             0.6666666666666666,
             "#ed7953"
            ],
            [
             0.7777777777777778,
             "#fb9f3a"
            ],
            [
             0.8888888888888888,
             "#fdca26"
            ],
            [
             1,
             "#f0f921"
            ]
           ],
           "sequentialminus": [
            [
             0,
             "#0d0887"
            ],
            [
             0.1111111111111111,
             "#46039f"
            ],
            [
             0.2222222222222222,
             "#7201a8"
            ],
            [
             0.3333333333333333,
             "#9c179e"
            ],
            [
             0.4444444444444444,
             "#bd3786"
            ],
            [
             0.5555555555555556,
             "#d8576b"
            ],
            [
             0.6666666666666666,
             "#ed7953"
            ],
            [
             0.7777777777777778,
             "#fb9f3a"
            ],
            [
             0.8888888888888888,
             "#fdca26"
            ],
            [
             1,
             "#f0f921"
            ]
           ]
          },
          "colorway": [
           "#636efa",
           "#EF553B",
           "#00cc96",
           "#ab63fa",
           "#FFA15A",
           "#19d3f3",
           "#FF6692",
           "#B6E880",
           "#FF97FF",
           "#FECB52"
          ],
          "font": {
           "color": "#2a3f5f"
          },
          "geo": {
           "bgcolor": "white",
           "lakecolor": "white",
           "landcolor": "#E5ECF6",
           "showlakes": true,
           "showland": true,
           "subunitcolor": "white"
          },
          "hoverlabel": {
           "align": "left"
          },
          "hovermode": "closest",
          "mapbox": {
           "style": "light"
          },
          "paper_bgcolor": "white",
          "plot_bgcolor": "#E5ECF6",
          "polar": {
           "angularaxis": {
            "gridcolor": "white",
            "linecolor": "white",
            "ticks": ""
           },
           "bgcolor": "#E5ECF6",
           "radialaxis": {
            "gridcolor": "white",
            "linecolor": "white",
            "ticks": ""
           }
          },
          "scene": {
           "xaxis": {
            "backgroundcolor": "#E5ECF6",
            "gridcolor": "white",
            "gridwidth": 2,
            "linecolor": "white",
            "showbackground": true,
            "ticks": "",
            "zerolinecolor": "white"
           },
           "yaxis": {
            "backgroundcolor": "#E5ECF6",
            "gridcolor": "white",
            "gridwidth": 2,
            "linecolor": "white",
            "showbackground": true,
            "ticks": "",
            "zerolinecolor": "white"
           },
           "zaxis": {
            "backgroundcolor": "#E5ECF6",
            "gridcolor": "white",
            "gridwidth": 2,
            "linecolor": "white",
            "showbackground": true,
            "ticks": "",
            "zerolinecolor": "white"
           }
          },
          "shapedefaults": {
           "line": {
            "color": "#2a3f5f"
           }
          },
          "ternary": {
           "aaxis": {
            "gridcolor": "white",
            "linecolor": "white",
            "ticks": ""
           },
           "baxis": {
            "gridcolor": "white",
            "linecolor": "white",
            "ticks": ""
           },
           "bgcolor": "#E5ECF6",
           "caxis": {
            "gridcolor": "white",
            "linecolor": "white",
            "ticks": ""
           }
          },
          "title": {
           "x": 0.05
          },
          "xaxis": {
           "automargin": true,
           "gridcolor": "white",
           "linecolor": "white",
           "ticks": "",
           "title": {
            "standoff": 15
           },
           "zerolinecolor": "white",
           "zerolinewidth": 2
          },
          "yaxis": {
           "automargin": true,
           "gridcolor": "white",
           "linecolor": "white",
           "ticks": "",
           "title": {
            "standoff": 15
           },
           "zerolinecolor": "white",
           "zerolinewidth": 2
          }
         }
        },
        "width": 1000,
        "xaxis": {
         "anchor": "y",
         "domain": [
          0,
          1
         ],
         "title": {
          "text": "index"
         }
        },
        "yaxis": {
         "anchor": "x",
         "domain": [
          0,
          1
         ],
         "title": {
          "text": "percent of sum of value"
         }
        }
       }
      },
      "text/html": [
       "<div>                            <div id=\"38f30f52-5797-4e63-a3f9-ea7a9f720775\" class=\"plotly-graph-div\" style=\"height:525px; width:1000px;\"></div>            <script type=\"text/javascript\">                require([\"plotly\"], function(Plotly) {                    window.PLOTLYENV=window.PLOTLYENV || {};                                    if (document.getElementById(\"38f30f52-5797-4e63-a3f9-ea7a9f720775\")) {                    Plotly.newPlot(                        \"38f30f52-5797-4e63-a3f9-ea7a9f720775\",                        [{\"alignmentgroup\":\"True\",\"bingroup\":\"x\",\"histfunc\":\"sum\",\"histnorm\":\"percent\",\"hovertemplate\":\"variable=ubuntu_categories<br>index=%{x}<br>percent of sum of value=%{y}<extra></extra>\",\"legendgroup\":\"ubuntu_categories\",\"marker\":{\"color\":\"#636efa\",\"pattern\":{\"shape\":\"\"}},\"name\":\"ubuntu_categories\",\"offsetgroup\":\"ubuntu_categories\",\"orientation\":\"v\",\"showlegend\":true,\"x\":[\"Central Processing Unit (CPU) instructions set\",\"Other\",\"Single Instruction Multiple Data (SIMD) instructions set\",\"Floating-Point Unit (FPU) instructions set\",\"Advanced Encryption Standard (AES) instructions set\",\"Transactional Synchronization Extensions (TSX) instructions set\",\"Memory Protection Extensions (MPX) instructions set\",\"Virtual Machine Extensions (VMX) instructions set\"],\"xaxis\":\"x\",\"y\":[175410372,16604584,2841192,107178,2710,195,5,4],\"yaxis\":\"y\",\"type\":\"histogram\"},{\"alignmentgroup\":\"True\",\"bingroup\":\"x\",\"histfunc\":\"sum\",\"histnorm\":\"percent\",\"hovertemplate\":\"variable=manjaro_categories<br>index=%{x}<br>percent of sum of value=%{y}<extra></extra>\",\"legendgroup\":\"manjaro_categories\",\"marker\":{\"color\":\"#EF553B\",\"pattern\":{\"shape\":\"\"}},\"name\":\"manjaro_categories\",\"offsetgroup\":\"manjaro_categories\",\"orientation\":\"v\",\"showlegend\":true,\"x\":[\"Central Processing Unit (CPU) instructions set\",\"Other\",\"Single Instruction Multiple Data (SIMD) instructions set\",\"Floating-Point Unit (FPU) instructions set\",\"Advanced Encryption Standard (AES) instructions set\",\"Transactional Synchronization Extensions (TSX) instructions set\",\"Memory Protection Extensions (MPX) instructions set\",\"Virtual Machine Extensions (VMX) instructions set\"],\"xaxis\":\"x\",\"y\":[220473607,24024003,3489780,90635,4169,189,8,4],\"yaxis\":\"y\",\"type\":\"histogram\"},{\"alignmentgroup\":\"True\",\"bingroup\":\"x\",\"histfunc\":\"sum\",\"histnorm\":\"percent\",\"hovertemplate\":\"variable=opensuse_categories<br>index=%{x}<br>percent of sum of value=%{y}<extra></extra>\",\"legendgroup\":\"opensuse_categories\",\"marker\":{\"color\":\"#00cc96\",\"pattern\":{\"shape\":\"\"}},\"name\":\"opensuse_categories\",\"offsetgroup\":\"opensuse_categories\",\"orientation\":\"v\",\"showlegend\":true,\"x\":[\"Central Processing Unit (CPU) instructions set\",\"Other\",\"Single Instruction Multiple Data (SIMD) instructions set\",\"Floating-Point Unit (FPU) instructions set\",\"Advanced Encryption Standard (AES) instructions set\",\"Transactional Synchronization Extensions (TSX) instructions set\",\"Memory Protection Extensions (MPX) instructions set\",\"Virtual Machine Extensions (VMX) instructions set\"],\"xaxis\":\"x\",\"y\":[191887696,15461454,2161179,58391,5520,130,8,6],\"yaxis\":\"y\",\"type\":\"histogram\"}],                        {\"template\":{\"data\":{\"histogram2dcontour\":[{\"type\":\"histogram2dcontour\",\"colorbar\":{\"outlinewidth\":0,\"ticks\":\"\"},\"colorscale\":[[0.0,\"#0d0887\"],[0.1111111111111111,\"#46039f\"],[0.2222222222222222,\"#7201a8\"],[0.3333333333333333,\"#9c179e\"],[0.4444444444444444,\"#bd3786\"],[0.5555555555555556,\"#d8576b\"],[0.6666666666666666,\"#ed7953\"],[0.7777777777777778,\"#fb9f3a\"],[0.8888888888888888,\"#fdca26\"],[1.0,\"#f0f921\"]]}],\"choropleth\":[{\"type\":\"choropleth\",\"colorbar\":{\"outlinewidth\":0,\"ticks\":\"\"}}],\"histogram2d\":[{\"type\":\"histogram2d\",\"colorbar\":{\"outlinewidth\":0,\"ticks\":\"\"},\"colorscale\":[[0.0,\"#0d0887\"],[0.1111111111111111,\"#46039f\"],[0.2222222222222222,\"#7201a8\"],[0.3333333333333333,\"#9c179e\"],[0.4444444444444444,\"#bd3786\"],[0.5555555555555556,\"#d8576b\"],[0.6666666666666666,\"#ed7953\"],[0.7777777777777778,\"#fb9f3a\"],[0.8888888888888888,\"#fdca26\"],[1.0,\"#f0f921\"]]}],\"heatmap\":[{\"type\":\"heatmap\",\"colorbar\":{\"outlinewidth\":0,\"ticks\":\"\"},\"colorscale\":[[0.0,\"#0d0887\"],[0.1111111111111111,\"#46039f\"],[0.2222222222222222,\"#7201a8\"],[0.3333333333333333,\"#9c179e\"],[0.4444444444444444,\"#bd3786\"],[0.5555555555555556,\"#d8576b\"],[0.6666666666666666,\"#ed7953\"],[0.7777777777777778,\"#fb9f3a\"],[0.8888888888888888,\"#fdca26\"],[1.0,\"#f0f921\"]]}],\"heatmapgl\":[{\"type\":\"heatmapgl\",\"colorbar\":{\"outlinewidth\":0,\"ticks\":\"\"},\"colorscale\":[[0.0,\"#0d0887\"],[0.1111111111111111,\"#46039f\"],[0.2222222222222222,\"#7201a8\"],[0.3333333333333333,\"#9c179e\"],[0.4444444444444444,\"#bd3786\"],[0.5555555555555556,\"#d8576b\"],[0.6666666666666666,\"#ed7953\"],[0.7777777777777778,\"#fb9f3a\"],[0.8888888888888888,\"#fdca26\"],[1.0,\"#f0f921\"]]}],\"contourcarpet\":[{\"type\":\"contourcarpet\",\"colorbar\":{\"outlinewidth\":0,\"ticks\":\"\"}}],\"contour\":[{\"type\":\"contour\",\"colorbar\":{\"outlinewidth\":0,\"ticks\":\"\"},\"colorscale\":[[0.0,\"#0d0887\"],[0.1111111111111111,\"#46039f\"],[0.2222222222222222,\"#7201a8\"],[0.3333333333333333,\"#9c179e\"],[0.4444444444444444,\"#bd3786\"],[0.5555555555555556,\"#d8576b\"],[0.6666666666666666,\"#ed7953\"],[0.7777777777777778,\"#fb9f3a\"],[0.8888888888888888,\"#fdca26\"],[1.0,\"#f0f921\"]]}],\"surface\":[{\"type\":\"surface\",\"colorbar\":{\"outlinewidth\":0,\"ticks\":\"\"},\"colorscale\":[[0.0,\"#0d0887\"],[0.1111111111111111,\"#46039f\"],[0.2222222222222222,\"#7201a8\"],[0.3333333333333333,\"#9c179e\"],[0.4444444444444444,\"#bd3786\"],[0.5555555555555556,\"#d8576b\"],[0.6666666666666666,\"#ed7953\"],[0.7777777777777778,\"#fb9f3a\"],[0.8888888888888888,\"#fdca26\"],[1.0,\"#f0f921\"]]}],\"mesh3d\":[{\"type\":\"mesh3d\",\"colorbar\":{\"outlinewidth\":0,\"ticks\":\"\"}}],\"scatter\":[{\"fillpattern\":{\"fillmode\":\"overlay\",\"size\":10,\"solidity\":0.2},\"type\":\"scatter\"}],\"parcoords\":[{\"type\":\"parcoords\",\"line\":{\"colorbar\":{\"outlinewidth\":0,\"ticks\":\"\"}}}],\"scatterpolargl\":[{\"type\":\"scatterpolargl\",\"marker\":{\"colorbar\":{\"outlinewidth\":0,\"ticks\":\"\"}}}],\"bar\":[{\"error_x\":{\"color\":\"#2a3f5f\"},\"error_y\":{\"color\":\"#2a3f5f\"},\"marker\":{\"line\":{\"color\":\"#E5ECF6\",\"width\":0.5},\"pattern\":{\"fillmode\":\"overlay\",\"size\":10,\"solidity\":0.2}},\"type\":\"bar\"}],\"scattergeo\":[{\"type\":\"scattergeo\",\"marker\":{\"colorbar\":{\"outlinewidth\":0,\"ticks\":\"\"}}}],\"scatterpolar\":[{\"type\":\"scatterpolar\",\"marker\":{\"colorbar\":{\"outlinewidth\":0,\"ticks\":\"\"}}}],\"histogram\":[{\"marker\":{\"pattern\":{\"fillmode\":\"overlay\",\"size\":10,\"solidity\":0.2}},\"type\":\"histogram\"}],\"scattergl\":[{\"type\":\"scattergl\",\"marker\":{\"colorbar\":{\"outlinewidth\":0,\"ticks\":\"\"}}}],\"scatter3d\":[{\"type\":\"scatter3d\",\"line\":{\"colorbar\":{\"outlinewidth\":0,\"ticks\":\"\"}},\"marker\":{\"colorbar\":{\"outlinewidth\":0,\"ticks\":\"\"}}}],\"scattermapbox\":[{\"type\":\"scattermapbox\",\"marker\":{\"colorbar\":{\"outlinewidth\":0,\"ticks\":\"\"}}}],\"scatterternary\":[{\"type\":\"scatterternary\",\"marker\":{\"colorbar\":{\"outlinewidth\":0,\"ticks\":\"\"}}}],\"scattercarpet\":[{\"type\":\"scattercarpet\",\"marker\":{\"colorbar\":{\"outlinewidth\":0,\"ticks\":\"\"}}}],\"carpet\":[{\"aaxis\":{\"endlinecolor\":\"#2a3f5f\",\"gridcolor\":\"white\",\"linecolor\":\"white\",\"minorgridcolor\":\"white\",\"startlinecolor\":\"#2a3f5f\"},\"baxis\":{\"endlinecolor\":\"#2a3f5f\",\"gridcolor\":\"white\",\"linecolor\":\"white\",\"minorgridcolor\":\"white\",\"startlinecolor\":\"#2a3f5f\"},\"type\":\"carpet\"}],\"table\":[{\"cells\":{\"fill\":{\"color\":\"#EBF0F8\"},\"line\":{\"color\":\"white\"}},\"header\":{\"fill\":{\"color\":\"#C8D4E3\"},\"line\":{\"color\":\"white\"}},\"type\":\"table\"}],\"barpolar\":[{\"marker\":{\"line\":{\"color\":\"#E5ECF6\",\"width\":0.5},\"pattern\":{\"fillmode\":\"overlay\",\"size\":10,\"solidity\":0.2}},\"type\":\"barpolar\"}],\"pie\":[{\"automargin\":true,\"type\":\"pie\"}]},\"layout\":{\"autotypenumbers\":\"strict\",\"colorway\":[\"#636efa\",\"#EF553B\",\"#00cc96\",\"#ab63fa\",\"#FFA15A\",\"#19d3f3\",\"#FF6692\",\"#B6E880\",\"#FF97FF\",\"#FECB52\"],\"font\":{\"color\":\"#2a3f5f\"},\"hovermode\":\"closest\",\"hoverlabel\":{\"align\":\"left\"},\"paper_bgcolor\":\"white\",\"plot_bgcolor\":\"#E5ECF6\",\"polar\":{\"bgcolor\":\"#E5ECF6\",\"angularaxis\":{\"gridcolor\":\"white\",\"linecolor\":\"white\",\"ticks\":\"\"},\"radialaxis\":{\"gridcolor\":\"white\",\"linecolor\":\"white\",\"ticks\":\"\"}},\"ternary\":{\"bgcolor\":\"#E5ECF6\",\"aaxis\":{\"gridcolor\":\"white\",\"linecolor\":\"white\",\"ticks\":\"\"},\"baxis\":{\"gridcolor\":\"white\",\"linecolor\":\"white\",\"ticks\":\"\"},\"caxis\":{\"gridcolor\":\"white\",\"linecolor\":\"white\",\"ticks\":\"\"}},\"coloraxis\":{\"colorbar\":{\"outlinewidth\":0,\"ticks\":\"\"}},\"colorscale\":{\"sequential\":[[0.0,\"#0d0887\"],[0.1111111111111111,\"#46039f\"],[0.2222222222222222,\"#7201a8\"],[0.3333333333333333,\"#9c179e\"],[0.4444444444444444,\"#bd3786\"],[0.5555555555555556,\"#d8576b\"],[0.6666666666666666,\"#ed7953\"],[0.7777777777777778,\"#fb9f3a\"],[0.8888888888888888,\"#fdca26\"],[1.0,\"#f0f921\"]],\"sequentialminus\":[[0.0,\"#0d0887\"],[0.1111111111111111,\"#46039f\"],[0.2222222222222222,\"#7201a8\"],[0.3333333333333333,\"#9c179e\"],[0.4444444444444444,\"#bd3786\"],[0.5555555555555556,\"#d8576b\"],[0.6666666666666666,\"#ed7953\"],[0.7777777777777778,\"#fb9f3a\"],[0.8888888888888888,\"#fdca26\"],[1.0,\"#f0f921\"]],\"diverging\":[[0,\"#8e0152\"],[0.1,\"#c51b7d\"],[0.2,\"#de77ae\"],[0.3,\"#f1b6da\"],[0.4,\"#fde0ef\"],[0.5,\"#f7f7f7\"],[0.6,\"#e6f5d0\"],[0.7,\"#b8e186\"],[0.8,\"#7fbc41\"],[0.9,\"#4d9221\"],[1,\"#276419\"]]},\"xaxis\":{\"gridcolor\":\"white\",\"linecolor\":\"white\",\"ticks\":\"\",\"title\":{\"standoff\":15},\"zerolinecolor\":\"white\",\"automargin\":true,\"zerolinewidth\":2},\"yaxis\":{\"gridcolor\":\"white\",\"linecolor\":\"white\",\"ticks\":\"\",\"title\":{\"standoff\":15},\"zerolinecolor\":\"white\",\"automargin\":true,\"zerolinewidth\":2},\"scene\":{\"xaxis\":{\"backgroundcolor\":\"#E5ECF6\",\"gridcolor\":\"white\",\"linecolor\":\"white\",\"showbackground\":true,\"ticks\":\"\",\"zerolinecolor\":\"white\",\"gridwidth\":2},\"yaxis\":{\"backgroundcolor\":\"#E5ECF6\",\"gridcolor\":\"white\",\"linecolor\":\"white\",\"showbackground\":true,\"ticks\":\"\",\"zerolinecolor\":\"white\",\"gridwidth\":2},\"zaxis\":{\"backgroundcolor\":\"#E5ECF6\",\"gridcolor\":\"white\",\"linecolor\":\"white\",\"showbackground\":true,\"ticks\":\"\",\"zerolinecolor\":\"white\",\"gridwidth\":2}},\"shapedefaults\":{\"line\":{\"color\":\"#2a3f5f\"}},\"annotationdefaults\":{\"arrowcolor\":\"#2a3f5f\",\"arrowhead\":0,\"arrowwidth\":1},\"geo\":{\"bgcolor\":\"white\",\"landcolor\":\"#E5ECF6\",\"subunitcolor\":\"white\",\"showland\":true,\"showlakes\":true,\"lakecolor\":\"white\"},\"title\":{\"x\":0.05},\"mapbox\":{\"style\":\"light\"}}},\"xaxis\":{\"anchor\":\"y\",\"domain\":[0.0,1.0],\"title\":{\"text\":\"index\"}},\"yaxis\":{\"anchor\":\"x\",\"domain\":[0.0,1.0],\"title\":{\"text\":\"percent of sum of value\"}},\"legend\":{\"title\":{\"text\":\"variable\"},\"tracegroupgap\":0,\"orientation\":\"h\",\"yanchor\":\"bottom\",\"y\":1.02,\"xanchor\":\"left\",\"x\":0},\"margin\":{\"t\":60},\"barmode\":\"group\",\"width\":1000},                        {\"responsive\": true}                    ).then(function(){\n",
       "                            \n",
       "var gd = document.getElementById('38f30f52-5797-4e63-a3f9-ea7a9f720775');\n",
       "var x = new MutationObserver(function (mutations, observer) {{\n",
       "        var display = window.getComputedStyle(gd).display;\n",
       "        if (!display || display === 'none') {{\n",
       "            console.log([gd, 'removed!']);\n",
       "            Plotly.purge(gd);\n",
       "            observer.disconnect();\n",
       "        }}\n",
       "}});\n",
       "\n",
       "// Listen for the removal of the full notebook cells\n",
       "var notebookContainer = gd.closest('#notebook-container');\n",
       "if (notebookContainer) {{\n",
       "    x.observe(notebookContainer, {childList: true});\n",
       "}}\n",
       "\n",
       "// Listen for the clearing of the current output cell\n",
       "var outputEl = gd.closest('.output');\n",
       "if (outputEl) {{\n",
       "    x.observe(outputEl, {childList: true});\n",
       "}}\n",
       "\n",
       "                        })                };                });            </script>        </div>"
      ]
     },
     "metadata": {},
     "output_type": "display_data"
    }
   ],
   "source": [
    "total_categories_histogram(width=1000)"
   ]
  },
  {
   "cell_type": "markdown",
   "id": "bba37592",
   "metadata": {},
   "source": [
    "### Build a histogram of the total instruction group usage"
   ]
  },
  {
   "cell_type": "code",
   "execution_count": 25,
   "id": "b1b9cb3c",
   "metadata": {},
   "outputs": [
    {
     "data": {
      "application/vnd.plotly.v1+json": {
       "config": {
        "plotlyServerURL": "https://plot.ly"
       },
       "data": [
        {
         "alignmentgroup": "True",
         "bingroup": "x",
         "histfunc": "sum",
         "histnorm": "percent",
         "hovertemplate": "variable=ubuntu_groups<br>index=%{x}<br>percent of sum of value=%{y}<extra></extra>",
         "legendgroup": "ubuntu_groups",
         "marker": {
          "color": "#636efa",
          "pattern": {
           "shape": ""
          }
         },
         "name": "ubuntu_groups",
         "offsetgroup": "ubuntu_groups",
         "orientation": "v",
         "showlegend": true,
         "type": "histogram",
         "x": [
          "System Instructions",
          "Control Transfer Instructions",
          "Binary Arithmetic Instructions",
          "Miscellaneous Instructions",
          "Other",
          "Data Transfer Instructions",
          "Logical Instructions",
          "Bit and Byte Instructions",
          "Shift and Rotate Instructions",
          "Packed Arithmetic Instructions",
          "I/O and String Instructions",
          "Unpack Instructions",
          "Fused Arithmetic Instructions",
          "Broadcast Instructions",
          "Primitives of Functions",
          "Shuffle Instructions",
          "Conversion Instructions",
          "Insert Instructions",
          "Pack Instructions",
          "Extract Instructions",
          "Permute Instructions",
          "Cacheability Control, Prefetch and Ordering Instructions",
          "Bit manipulation instructions",
          "Comparison Instructions",
          "Basic Arithmetic Instructions",
          "AVX Initialization Instructions",
          "Blending Instructions",
          "High Level Procedure Instructions",
          "Opmask Instructions",
          "Flag Control Instructions",
          "Advanced Encryption Standard (AES) instructions set",
          "Load Constants Instructions",
          "Gather Instructions",
          "Control Instructions",
          "Secure Hash Algorithm Instructions",
          "Scatter Instructions",
          "Transactional Synchronization Extensions (TSX) instructions set",
          "State Management Instructions",
          "Transcendental Instructions",
          "Random Number Generator Instructions",
          "Expand Instructions",
          "Compress Instructions",
          "FPU and SIMD State Management Instructions",
          "Memory Protection Extensions (MPX) instructions set",
          "VMCS-maintenance Instructions",
          "Segment Register Instructions",
          "Decimal Arithmetic Instructions"
         ],
         "xaxis": "x",
         "y": [
          65368592,
          37802314,
          19650068,
          18327471,
          16604584,
          14453327,
          9006340,
          7774644,
          3555984,
          772654,
          655131,
          182848,
          123212,
          90570,
          85975,
          75409,
          70216,
          59227,
          46156,
          35674,
          37921,
          33280,
          40120,
          30912,
          23852,
          16705,
          5424,
          12519,
          7635,
          3500,
          2710,
          3969,
          1864,
          3098,
          913,
          868,
          195,
          72,
          171,
          64,
          0,
          28,
          12,
          5,
          4,
          3,
          0
         ],
         "yaxis": "y"
        },
        {
         "alignmentgroup": "True",
         "bingroup": "x",
         "histfunc": "sum",
         "histnorm": "percent",
         "hovertemplate": "variable=manjaro_groups<br>index=%{x}<br>percent of sum of value=%{y}<extra></extra>",
         "legendgroup": "manjaro_groups",
         "marker": {
          "color": "#EF553B",
          "pattern": {
           "shape": ""
          }
         },
         "name": "manjaro_groups",
         "offsetgroup": "manjaro_groups",
         "orientation": "v",
         "showlegend": true,
         "type": "histogram",
         "x": [
          "System Instructions",
          "Control Transfer Instructions",
          "Binary Arithmetic Instructions",
          "Miscellaneous Instructions",
          "Other",
          "Data Transfer Instructions",
          "Logical Instructions",
          "Bit and Byte Instructions",
          "Shift and Rotate Instructions",
          "Packed Arithmetic Instructions",
          "I/O and String Instructions",
          "Unpack Instructions",
          "Fused Arithmetic Instructions",
          "Broadcast Instructions",
          "Primitives of Functions",
          "Shuffle Instructions",
          "Conversion Instructions",
          "Insert Instructions",
          "Pack Instructions",
          "Extract Instructions",
          "Permute Instructions",
          "Cacheability Control, Prefetch and Ordering Instructions",
          "Bit manipulation instructions",
          "Comparison Instructions",
          "Basic Arithmetic Instructions",
          "AVX Initialization Instructions",
          "Blending Instructions",
          "High Level Procedure Instructions",
          "Opmask Instructions",
          "Flag Control Instructions",
          "Advanced Encryption Standard (AES) instructions set",
          "Load Constants Instructions",
          "Gather Instructions",
          "Control Instructions",
          "Secure Hash Algorithm Instructions",
          "Scatter Instructions",
          "Transactional Synchronization Extensions (TSX) instructions set",
          "State Management Instructions",
          "Transcendental Instructions",
          "Random Number Generator Instructions",
          "Expand Instructions",
          "Compress Instructions",
          "FPU and SIMD State Management Instructions",
          "Memory Protection Extensions (MPX) instructions set",
          "VMCS-maintenance Instructions",
          "Segment Register Instructions",
          "Decimal Arithmetic Instructions"
         ],
         "xaxis": "x",
         "y": [
          81240349,
          50110348,
          25583013,
          21024438,
          24024003,
          18331345,
          10286098,
          10148528,
          4337705,
          968492,
          831277,
          231957,
          132239,
          118624,
          115161,
          95978,
          66197,
          76682,
          63293,
          54078,
          48590,
          38363,
          26991,
          32599,
          20988,
          23217,
          12649,
          11303,
          9035,
          3510,
          4169,
          2817,
          3010,
          2316,
          1465,
          979,
          189,
          192,
          82,
          22,
          48,
          32,
          9,
          8,
          4,
          3,
          0
         ],
         "yaxis": "y"
        },
        {
         "alignmentgroup": "True",
         "bingroup": "x",
         "histfunc": "sum",
         "histnorm": "percent",
         "hovertemplate": "variable=opensuse_groups<br>index=%{x}<br>percent of sum of value=%{y}<extra></extra>",
         "legendgroup": "opensuse_groups",
         "marker": {
          "color": "#00cc96",
          "pattern": {
           "shape": ""
          }
         },
         "name": "opensuse_groups",
         "offsetgroup": "opensuse_groups",
         "orientation": "v",
         "showlegend": true,
         "type": "histogram",
         "x": [
          "System Instructions",
          "Control Transfer Instructions",
          "Binary Arithmetic Instructions",
          "Miscellaneous Instructions",
          "Other",
          "Data Transfer Instructions",
          "Logical Instructions",
          "Bit and Byte Instructions",
          "Shift and Rotate Instructions",
          "Packed Arithmetic Instructions",
          "I/O and String Instructions",
          "Unpack Instructions",
          "Fused Arithmetic Instructions",
          "Broadcast Instructions",
          "Primitives of Functions",
          "Shuffle Instructions",
          "Conversion Instructions",
          "Insert Instructions",
          "Pack Instructions",
          "Extract Instructions",
          "Permute Instructions",
          "Cacheability Control, Prefetch and Ordering Instructions",
          "Bit manipulation instructions",
          "Comparison Instructions",
          "Basic Arithmetic Instructions",
          "AVX Initialization Instructions",
          "Blending Instructions",
          "High Level Procedure Instructions",
          "Opmask Instructions",
          "Flag Control Instructions",
          "Advanced Encryption Standard (AES) instructions set",
          "Load Constants Instructions",
          "Gather Instructions",
          "Control Instructions",
          "Secure Hash Algorithm Instructions",
          "Scatter Instructions",
          "Transactional Synchronization Extensions (TSX) instructions set",
          "State Management Instructions",
          "Transcendental Instructions",
          "Random Number Generator Instructions",
          "Expand Instructions",
          "Compress Instructions",
          "FPU and SIMD State Management Instructions",
          "Memory Protection Extensions (MPX) instructions set",
          "VMCS-maintenance Instructions",
          "Segment Register Instructions",
          "Decimal Arithmetic Instructions"
         ],
         "xaxis": "x",
         "y": [
          70003768,
          45335105,
          21022740,
          18916654,
          15461454,
          15722692,
          9239519,
          8588840,
          3432532,
          469127,
          631851,
          86730,
          124983,
          108011,
          43147,
          41528,
          55749,
          33374,
          25273,
          28480,
          29139,
          40893,
          31473,
          25798,
          13310,
          17601,
          11362,
          3422,
          7524,
          6401,
          5520,
          1758,
          3221,
          2120,
          1905,
          1004,
          130,
          72,
          46,
          30,
          48,
          24,
          7,
          8,
          6,
          4,
          1
         ],
         "yaxis": "y"
        }
       ],
       "layout": {
        "barmode": "group",
        "legend": {
         "orientation": "h",
         "title": {
          "text": "variable"
         },
         "tracegroupgap": 0,
         "x": 0,
         "xanchor": "left",
         "y": 1.02,
         "yanchor": "bottom"
        },
        "margin": {
         "t": 60
        },
        "template": {
         "data": {
          "bar": [
           {
            "error_x": {
             "color": "#2a3f5f"
            },
            "error_y": {
             "color": "#2a3f5f"
            },
            "marker": {
             "line": {
              "color": "#E5ECF6",
              "width": 0.5
             },
             "pattern": {
              "fillmode": "overlay",
              "size": 10,
              "solidity": 0.2
             }
            },
            "type": "bar"
           }
          ],
          "barpolar": [
           {
            "marker": {
             "line": {
              "color": "#E5ECF6",
              "width": 0.5
             },
             "pattern": {
              "fillmode": "overlay",
              "size": 10,
              "solidity": 0.2
             }
            },
            "type": "barpolar"
           }
          ],
          "carpet": [
           {
            "aaxis": {
             "endlinecolor": "#2a3f5f",
             "gridcolor": "white",
             "linecolor": "white",
             "minorgridcolor": "white",
             "startlinecolor": "#2a3f5f"
            },
            "baxis": {
             "endlinecolor": "#2a3f5f",
             "gridcolor": "white",
             "linecolor": "white",
             "minorgridcolor": "white",
             "startlinecolor": "#2a3f5f"
            },
            "type": "carpet"
           }
          ],
          "choropleth": [
           {
            "colorbar": {
             "outlinewidth": 0,
             "ticks": ""
            },
            "type": "choropleth"
           }
          ],
          "contour": [
           {
            "colorbar": {
             "outlinewidth": 0,
             "ticks": ""
            },
            "colorscale": [
             [
              0,
              "#0d0887"
             ],
             [
              0.1111111111111111,
              "#46039f"
             ],
             [
              0.2222222222222222,
              "#7201a8"
             ],
             [
              0.3333333333333333,
              "#9c179e"
             ],
             [
              0.4444444444444444,
              "#bd3786"
             ],
             [
              0.5555555555555556,
              "#d8576b"
             ],
             [
              0.6666666666666666,
              "#ed7953"
             ],
             [
              0.7777777777777778,
              "#fb9f3a"
             ],
             [
              0.8888888888888888,
              "#fdca26"
             ],
             [
              1,
              "#f0f921"
             ]
            ],
            "type": "contour"
           }
          ],
          "contourcarpet": [
           {
            "colorbar": {
             "outlinewidth": 0,
             "ticks": ""
            },
            "type": "contourcarpet"
           }
          ],
          "heatmap": [
           {
            "colorbar": {
             "outlinewidth": 0,
             "ticks": ""
            },
            "colorscale": [
             [
              0,
              "#0d0887"
             ],
             [
              0.1111111111111111,
              "#46039f"
             ],
             [
              0.2222222222222222,
              "#7201a8"
             ],
             [
              0.3333333333333333,
              "#9c179e"
             ],
             [
              0.4444444444444444,
              "#bd3786"
             ],
             [
              0.5555555555555556,
              "#d8576b"
             ],
             [
              0.6666666666666666,
              "#ed7953"
             ],
             [
              0.7777777777777778,
              "#fb9f3a"
             ],
             [
              0.8888888888888888,
              "#fdca26"
             ],
             [
              1,
              "#f0f921"
             ]
            ],
            "type": "heatmap"
           }
          ],
          "heatmapgl": [
           {
            "colorbar": {
             "outlinewidth": 0,
             "ticks": ""
            },
            "colorscale": [
             [
              0,
              "#0d0887"
             ],
             [
              0.1111111111111111,
              "#46039f"
             ],
             [
              0.2222222222222222,
              "#7201a8"
             ],
             [
              0.3333333333333333,
              "#9c179e"
             ],
             [
              0.4444444444444444,
              "#bd3786"
             ],
             [
              0.5555555555555556,
              "#d8576b"
             ],
             [
              0.6666666666666666,
              "#ed7953"
             ],
             [
              0.7777777777777778,
              "#fb9f3a"
             ],
             [
              0.8888888888888888,
              "#fdca26"
             ],
             [
              1,
              "#f0f921"
             ]
            ],
            "type": "heatmapgl"
           }
          ],
          "histogram": [
           {
            "marker": {
             "pattern": {
              "fillmode": "overlay",
              "size": 10,
              "solidity": 0.2
             }
            },
            "type": "histogram"
           }
          ],
          "histogram2d": [
           {
            "colorbar": {
             "outlinewidth": 0,
             "ticks": ""
            },
            "colorscale": [
             [
              0,
              "#0d0887"
             ],
             [
              0.1111111111111111,
              "#46039f"
             ],
             [
              0.2222222222222222,
              "#7201a8"
             ],
             [
              0.3333333333333333,
              "#9c179e"
             ],
             [
              0.4444444444444444,
              "#bd3786"
             ],
             [
              0.5555555555555556,
              "#d8576b"
             ],
             [
              0.6666666666666666,
              "#ed7953"
             ],
             [
              0.7777777777777778,
              "#fb9f3a"
             ],
             [
              0.8888888888888888,
              "#fdca26"
             ],
             [
              1,
              "#f0f921"
             ]
            ],
            "type": "histogram2d"
           }
          ],
          "histogram2dcontour": [
           {
            "colorbar": {
             "outlinewidth": 0,
             "ticks": ""
            },
            "colorscale": [
             [
              0,
              "#0d0887"
             ],
             [
              0.1111111111111111,
              "#46039f"
             ],
             [
              0.2222222222222222,
              "#7201a8"
             ],
             [
              0.3333333333333333,
              "#9c179e"
             ],
             [
              0.4444444444444444,
              "#bd3786"
             ],
             [
              0.5555555555555556,
              "#d8576b"
             ],
             [
              0.6666666666666666,
              "#ed7953"
             ],
             [
              0.7777777777777778,
              "#fb9f3a"
             ],
             [
              0.8888888888888888,
              "#fdca26"
             ],
             [
              1,
              "#f0f921"
             ]
            ],
            "type": "histogram2dcontour"
           }
          ],
          "mesh3d": [
           {
            "colorbar": {
             "outlinewidth": 0,
             "ticks": ""
            },
            "type": "mesh3d"
           }
          ],
          "parcoords": [
           {
            "line": {
             "colorbar": {
              "outlinewidth": 0,
              "ticks": ""
             }
            },
            "type": "parcoords"
           }
          ],
          "pie": [
           {
            "automargin": true,
            "type": "pie"
           }
          ],
          "scatter": [
           {
            "fillpattern": {
             "fillmode": "overlay",
             "size": 10,
             "solidity": 0.2
            },
            "type": "scatter"
           }
          ],
          "scatter3d": [
           {
            "line": {
             "colorbar": {
              "outlinewidth": 0,
              "ticks": ""
             }
            },
            "marker": {
             "colorbar": {
              "outlinewidth": 0,
              "ticks": ""
             }
            },
            "type": "scatter3d"
           }
          ],
          "scattercarpet": [
           {
            "marker": {
             "colorbar": {
              "outlinewidth": 0,
              "ticks": ""
             }
            },
            "type": "scattercarpet"
           }
          ],
          "scattergeo": [
           {
            "marker": {
             "colorbar": {
              "outlinewidth": 0,
              "ticks": ""
             }
            },
            "type": "scattergeo"
           }
          ],
          "scattergl": [
           {
            "marker": {
             "colorbar": {
              "outlinewidth": 0,
              "ticks": ""
             }
            },
            "type": "scattergl"
           }
          ],
          "scattermapbox": [
           {
            "marker": {
             "colorbar": {
              "outlinewidth": 0,
              "ticks": ""
             }
            },
            "type": "scattermapbox"
           }
          ],
          "scatterpolar": [
           {
            "marker": {
             "colorbar": {
              "outlinewidth": 0,
              "ticks": ""
             }
            },
            "type": "scatterpolar"
           }
          ],
          "scatterpolargl": [
           {
            "marker": {
             "colorbar": {
              "outlinewidth": 0,
              "ticks": ""
             }
            },
            "type": "scatterpolargl"
           }
          ],
          "scatterternary": [
           {
            "marker": {
             "colorbar": {
              "outlinewidth": 0,
              "ticks": ""
             }
            },
            "type": "scatterternary"
           }
          ],
          "surface": [
           {
            "colorbar": {
             "outlinewidth": 0,
             "ticks": ""
            },
            "colorscale": [
             [
              0,
              "#0d0887"
             ],
             [
              0.1111111111111111,
              "#46039f"
             ],
             [
              0.2222222222222222,
              "#7201a8"
             ],
             [
              0.3333333333333333,
              "#9c179e"
             ],
             [
              0.4444444444444444,
              "#bd3786"
             ],
             [
              0.5555555555555556,
              "#d8576b"
             ],
             [
              0.6666666666666666,
              "#ed7953"
             ],
             [
              0.7777777777777778,
              "#fb9f3a"
             ],
             [
              0.8888888888888888,
              "#fdca26"
             ],
             [
              1,
              "#f0f921"
             ]
            ],
            "type": "surface"
           }
          ],
          "table": [
           {
            "cells": {
             "fill": {
              "color": "#EBF0F8"
             },
             "line": {
              "color": "white"
             }
            },
            "header": {
             "fill": {
              "color": "#C8D4E3"
             },
             "line": {
              "color": "white"
             }
            },
            "type": "table"
           }
          ]
         },
         "layout": {
          "annotationdefaults": {
           "arrowcolor": "#2a3f5f",
           "arrowhead": 0,
           "arrowwidth": 1
          },
          "autotypenumbers": "strict",
          "coloraxis": {
           "colorbar": {
            "outlinewidth": 0,
            "ticks": ""
           }
          },
          "colorscale": {
           "diverging": [
            [
             0,
             "#8e0152"
            ],
            [
             0.1,
             "#c51b7d"
            ],
            [
             0.2,
             "#de77ae"
            ],
            [
             0.3,
             "#f1b6da"
            ],
            [
             0.4,
             "#fde0ef"
            ],
            [
             0.5,
             "#f7f7f7"
            ],
            [
             0.6,
             "#e6f5d0"
            ],
            [
             0.7,
             "#b8e186"
            ],
            [
             0.8,
             "#7fbc41"
            ],
            [
             0.9,
             "#4d9221"
            ],
            [
             1,
             "#276419"
            ]
           ],
           "sequential": [
            [
             0,
             "#0d0887"
            ],
            [
             0.1111111111111111,
             "#46039f"
            ],
            [
             0.2222222222222222,
             "#7201a8"
            ],
            [
             0.3333333333333333,
             "#9c179e"
            ],
            [
             0.4444444444444444,
             "#bd3786"
            ],
            [
             0.5555555555555556,
             "#d8576b"
            ],
            [
             0.6666666666666666,
             "#ed7953"
            ],
            [
             0.7777777777777778,
             "#fb9f3a"
            ],
            [
             0.8888888888888888,
             "#fdca26"
            ],
            [
             1,
             "#f0f921"
            ]
           ],
           "sequentialminus": [
            [
             0,
             "#0d0887"
            ],
            [
             0.1111111111111111,
             "#46039f"
            ],
            [
             0.2222222222222222,
             "#7201a8"
            ],
            [
             0.3333333333333333,
             "#9c179e"
            ],
            [
             0.4444444444444444,
             "#bd3786"
            ],
            [
             0.5555555555555556,
             "#d8576b"
            ],
            [
             0.6666666666666666,
             "#ed7953"
            ],
            [
             0.7777777777777778,
             "#fb9f3a"
            ],
            [
             0.8888888888888888,
             "#fdca26"
            ],
            [
             1,
             "#f0f921"
            ]
           ]
          },
          "colorway": [
           "#636efa",
           "#EF553B",
           "#00cc96",
           "#ab63fa",
           "#FFA15A",
           "#19d3f3",
           "#FF6692",
           "#B6E880",
           "#FF97FF",
           "#FECB52"
          ],
          "font": {
           "color": "#2a3f5f"
          },
          "geo": {
           "bgcolor": "white",
           "lakecolor": "white",
           "landcolor": "#E5ECF6",
           "showlakes": true,
           "showland": true,
           "subunitcolor": "white"
          },
          "hoverlabel": {
           "align": "left"
          },
          "hovermode": "closest",
          "mapbox": {
           "style": "light"
          },
          "paper_bgcolor": "white",
          "plot_bgcolor": "#E5ECF6",
          "polar": {
           "angularaxis": {
            "gridcolor": "white",
            "linecolor": "white",
            "ticks": ""
           },
           "bgcolor": "#E5ECF6",
           "radialaxis": {
            "gridcolor": "white",
            "linecolor": "white",
            "ticks": ""
           }
          },
          "scene": {
           "xaxis": {
            "backgroundcolor": "#E5ECF6",
            "gridcolor": "white",
            "gridwidth": 2,
            "linecolor": "white",
            "showbackground": true,
            "ticks": "",
            "zerolinecolor": "white"
           },
           "yaxis": {
            "backgroundcolor": "#E5ECF6",
            "gridcolor": "white",
            "gridwidth": 2,
            "linecolor": "white",
            "showbackground": true,
            "ticks": "",
            "zerolinecolor": "white"
           },
           "zaxis": {
            "backgroundcolor": "#E5ECF6",
            "gridcolor": "white",
            "gridwidth": 2,
            "linecolor": "white",
            "showbackground": true,
            "ticks": "",
            "zerolinecolor": "white"
           }
          },
          "shapedefaults": {
           "line": {
            "color": "#2a3f5f"
           }
          },
          "ternary": {
           "aaxis": {
            "gridcolor": "white",
            "linecolor": "white",
            "ticks": ""
           },
           "baxis": {
            "gridcolor": "white",
            "linecolor": "white",
            "ticks": ""
           },
           "bgcolor": "#E5ECF6",
           "caxis": {
            "gridcolor": "white",
            "linecolor": "white",
            "ticks": ""
           }
          },
          "title": {
           "x": 0.05
          },
          "xaxis": {
           "automargin": true,
           "gridcolor": "white",
           "linecolor": "white",
           "ticks": "",
           "title": {
            "standoff": 15
           },
           "zerolinecolor": "white",
           "zerolinewidth": 2
          },
          "yaxis": {
           "automargin": true,
           "gridcolor": "white",
           "linecolor": "white",
           "ticks": "",
           "title": {
            "standoff": 15
           },
           "zerolinecolor": "white",
           "zerolinewidth": 2
          }
         }
        },
        "width": 2000,
        "xaxis": {
         "anchor": "y",
         "domain": [
          0,
          1
         ],
         "title": {
          "text": "index"
         }
        },
        "yaxis": {
         "anchor": "x",
         "domain": [
          0,
          1
         ],
         "title": {
          "text": "percent of sum of value"
         }
        }
       }
      },
      "text/html": [
       "<div>                            <div id=\"902321fe-f06c-4552-a150-fdfe49d6394f\" class=\"plotly-graph-div\" style=\"height:525px; width:2000px;\"></div>            <script type=\"text/javascript\">                require([\"plotly\"], function(Plotly) {                    window.PLOTLYENV=window.PLOTLYENV || {};                                    if (document.getElementById(\"902321fe-f06c-4552-a150-fdfe49d6394f\")) {                    Plotly.newPlot(                        \"902321fe-f06c-4552-a150-fdfe49d6394f\",                        [{\"alignmentgroup\":\"True\",\"bingroup\":\"x\",\"histfunc\":\"sum\",\"histnorm\":\"percent\",\"hovertemplate\":\"variable=ubuntu_groups<br>index=%{x}<br>percent of sum of value=%{y}<extra></extra>\",\"legendgroup\":\"ubuntu_groups\",\"marker\":{\"color\":\"#636efa\",\"pattern\":{\"shape\":\"\"}},\"name\":\"ubuntu_groups\",\"offsetgroup\":\"ubuntu_groups\",\"orientation\":\"v\",\"showlegend\":true,\"x\":[\"System Instructions\",\"Control Transfer Instructions\",\"Binary Arithmetic Instructions\",\"Miscellaneous Instructions\",\"Other\",\"Data Transfer Instructions\",\"Logical Instructions\",\"Bit and Byte Instructions\",\"Shift and Rotate Instructions\",\"Packed Arithmetic Instructions\",\"I/O and String Instructions\",\"Unpack Instructions\",\"Fused Arithmetic Instructions\",\"Broadcast Instructions\",\"Primitives of Functions\",\"Shuffle Instructions\",\"Conversion Instructions\",\"Insert Instructions\",\"Pack Instructions\",\"Extract Instructions\",\"Permute Instructions\",\"Cacheability Control, Prefetch and Ordering Instructions\",\"Bit manipulation instructions\",\"Comparison Instructions\",\"Basic Arithmetic Instructions\",\"AVX Initialization Instructions\",\"Blending Instructions\",\"High Level Procedure Instructions\",\"Opmask Instructions\",\"Flag Control Instructions\",\"Advanced Encryption Standard (AES) instructions set\",\"Load Constants Instructions\",\"Gather Instructions\",\"Control Instructions\",\"Secure Hash Algorithm Instructions\",\"Scatter Instructions\",\"Transactional Synchronization Extensions (TSX) instructions set\",\"State Management Instructions\",\"Transcendental Instructions\",\"Random Number Generator Instructions\",\"Expand Instructions\",\"Compress Instructions\",\"FPU and SIMD State Management Instructions\",\"Memory Protection Extensions (MPX) instructions set\",\"VMCS-maintenance Instructions\",\"Segment Register Instructions\",\"Decimal Arithmetic Instructions\"],\"xaxis\":\"x\",\"y\":[65368592,37802314,19650068,18327471,16604584,14453327,9006340,7774644,3555984,772654,655131,182848,123212,90570,85975,75409,70216,59227,46156,35674,37921,33280,40120,30912,23852,16705,5424,12519,7635,3500,2710,3969,1864,3098,913,868,195,72,171,64,0,28,12,5,4,3,0],\"yaxis\":\"y\",\"type\":\"histogram\"},{\"alignmentgroup\":\"True\",\"bingroup\":\"x\",\"histfunc\":\"sum\",\"histnorm\":\"percent\",\"hovertemplate\":\"variable=manjaro_groups<br>index=%{x}<br>percent of sum of value=%{y}<extra></extra>\",\"legendgroup\":\"manjaro_groups\",\"marker\":{\"color\":\"#EF553B\",\"pattern\":{\"shape\":\"\"}},\"name\":\"manjaro_groups\",\"offsetgroup\":\"manjaro_groups\",\"orientation\":\"v\",\"showlegend\":true,\"x\":[\"System Instructions\",\"Control Transfer Instructions\",\"Binary Arithmetic Instructions\",\"Miscellaneous Instructions\",\"Other\",\"Data Transfer Instructions\",\"Logical Instructions\",\"Bit and Byte Instructions\",\"Shift and Rotate Instructions\",\"Packed Arithmetic Instructions\",\"I/O and String Instructions\",\"Unpack Instructions\",\"Fused Arithmetic Instructions\",\"Broadcast Instructions\",\"Primitives of Functions\",\"Shuffle Instructions\",\"Conversion Instructions\",\"Insert Instructions\",\"Pack Instructions\",\"Extract Instructions\",\"Permute Instructions\",\"Cacheability Control, Prefetch and Ordering Instructions\",\"Bit manipulation instructions\",\"Comparison Instructions\",\"Basic Arithmetic Instructions\",\"AVX Initialization Instructions\",\"Blending Instructions\",\"High Level Procedure Instructions\",\"Opmask Instructions\",\"Flag Control Instructions\",\"Advanced Encryption Standard (AES) instructions set\",\"Load Constants Instructions\",\"Gather Instructions\",\"Control Instructions\",\"Secure Hash Algorithm Instructions\",\"Scatter Instructions\",\"Transactional Synchronization Extensions (TSX) instructions set\",\"State Management Instructions\",\"Transcendental Instructions\",\"Random Number Generator Instructions\",\"Expand Instructions\",\"Compress Instructions\",\"FPU and SIMD State Management Instructions\",\"Memory Protection Extensions (MPX) instructions set\",\"VMCS-maintenance Instructions\",\"Segment Register Instructions\",\"Decimal Arithmetic Instructions\"],\"xaxis\":\"x\",\"y\":[81240349,50110348,25583013,21024438,24024003,18331345,10286098,10148528,4337705,968492,831277,231957,132239,118624,115161,95978,66197,76682,63293,54078,48590,38363,26991,32599,20988,23217,12649,11303,9035,3510,4169,2817,3010,2316,1465,979,189,192,82,22,48,32,9,8,4,3,0],\"yaxis\":\"y\",\"type\":\"histogram\"},{\"alignmentgroup\":\"True\",\"bingroup\":\"x\",\"histfunc\":\"sum\",\"histnorm\":\"percent\",\"hovertemplate\":\"variable=opensuse_groups<br>index=%{x}<br>percent of sum of value=%{y}<extra></extra>\",\"legendgroup\":\"opensuse_groups\",\"marker\":{\"color\":\"#00cc96\",\"pattern\":{\"shape\":\"\"}},\"name\":\"opensuse_groups\",\"offsetgroup\":\"opensuse_groups\",\"orientation\":\"v\",\"showlegend\":true,\"x\":[\"System Instructions\",\"Control Transfer Instructions\",\"Binary Arithmetic Instructions\",\"Miscellaneous Instructions\",\"Other\",\"Data Transfer Instructions\",\"Logical Instructions\",\"Bit and Byte Instructions\",\"Shift and Rotate Instructions\",\"Packed Arithmetic Instructions\",\"I/O and String Instructions\",\"Unpack Instructions\",\"Fused Arithmetic Instructions\",\"Broadcast Instructions\",\"Primitives of Functions\",\"Shuffle Instructions\",\"Conversion Instructions\",\"Insert Instructions\",\"Pack Instructions\",\"Extract Instructions\",\"Permute Instructions\",\"Cacheability Control, Prefetch and Ordering Instructions\",\"Bit manipulation instructions\",\"Comparison Instructions\",\"Basic Arithmetic Instructions\",\"AVX Initialization Instructions\",\"Blending Instructions\",\"High Level Procedure Instructions\",\"Opmask Instructions\",\"Flag Control Instructions\",\"Advanced Encryption Standard (AES) instructions set\",\"Load Constants Instructions\",\"Gather Instructions\",\"Control Instructions\",\"Secure Hash Algorithm Instructions\",\"Scatter Instructions\",\"Transactional Synchronization Extensions (TSX) instructions set\",\"State Management Instructions\",\"Transcendental Instructions\",\"Random Number Generator Instructions\",\"Expand Instructions\",\"Compress Instructions\",\"FPU and SIMD State Management Instructions\",\"Memory Protection Extensions (MPX) instructions set\",\"VMCS-maintenance Instructions\",\"Segment Register Instructions\",\"Decimal Arithmetic Instructions\"],\"xaxis\":\"x\",\"y\":[70003768,45335105,21022740,18916654,15461454,15722692,9239519,8588840,3432532,469127,631851,86730,124983,108011,43147,41528,55749,33374,25273,28480,29139,40893,31473,25798,13310,17601,11362,3422,7524,6401,5520,1758,3221,2120,1905,1004,130,72,46,30,48,24,7,8,6,4,1],\"yaxis\":\"y\",\"type\":\"histogram\"}],                        {\"template\":{\"data\":{\"histogram2dcontour\":[{\"type\":\"histogram2dcontour\",\"colorbar\":{\"outlinewidth\":0,\"ticks\":\"\"},\"colorscale\":[[0.0,\"#0d0887\"],[0.1111111111111111,\"#46039f\"],[0.2222222222222222,\"#7201a8\"],[0.3333333333333333,\"#9c179e\"],[0.4444444444444444,\"#bd3786\"],[0.5555555555555556,\"#d8576b\"],[0.6666666666666666,\"#ed7953\"],[0.7777777777777778,\"#fb9f3a\"],[0.8888888888888888,\"#fdca26\"],[1.0,\"#f0f921\"]]}],\"choropleth\":[{\"type\":\"choropleth\",\"colorbar\":{\"outlinewidth\":0,\"ticks\":\"\"}}],\"histogram2d\":[{\"type\":\"histogram2d\",\"colorbar\":{\"outlinewidth\":0,\"ticks\":\"\"},\"colorscale\":[[0.0,\"#0d0887\"],[0.1111111111111111,\"#46039f\"],[0.2222222222222222,\"#7201a8\"],[0.3333333333333333,\"#9c179e\"],[0.4444444444444444,\"#bd3786\"],[0.5555555555555556,\"#d8576b\"],[0.6666666666666666,\"#ed7953\"],[0.7777777777777778,\"#fb9f3a\"],[0.8888888888888888,\"#fdca26\"],[1.0,\"#f0f921\"]]}],\"heatmap\":[{\"type\":\"heatmap\",\"colorbar\":{\"outlinewidth\":0,\"ticks\":\"\"},\"colorscale\":[[0.0,\"#0d0887\"],[0.1111111111111111,\"#46039f\"],[0.2222222222222222,\"#7201a8\"],[0.3333333333333333,\"#9c179e\"],[0.4444444444444444,\"#bd3786\"],[0.5555555555555556,\"#d8576b\"],[0.6666666666666666,\"#ed7953\"],[0.7777777777777778,\"#fb9f3a\"],[0.8888888888888888,\"#fdca26\"],[1.0,\"#f0f921\"]]}],\"heatmapgl\":[{\"type\":\"heatmapgl\",\"colorbar\":{\"outlinewidth\":0,\"ticks\":\"\"},\"colorscale\":[[0.0,\"#0d0887\"],[0.1111111111111111,\"#46039f\"],[0.2222222222222222,\"#7201a8\"],[0.3333333333333333,\"#9c179e\"],[0.4444444444444444,\"#bd3786\"],[0.5555555555555556,\"#d8576b\"],[0.6666666666666666,\"#ed7953\"],[0.7777777777777778,\"#fb9f3a\"],[0.8888888888888888,\"#fdca26\"],[1.0,\"#f0f921\"]]}],\"contourcarpet\":[{\"type\":\"contourcarpet\",\"colorbar\":{\"outlinewidth\":0,\"ticks\":\"\"}}],\"contour\":[{\"type\":\"contour\",\"colorbar\":{\"outlinewidth\":0,\"ticks\":\"\"},\"colorscale\":[[0.0,\"#0d0887\"],[0.1111111111111111,\"#46039f\"],[0.2222222222222222,\"#7201a8\"],[0.3333333333333333,\"#9c179e\"],[0.4444444444444444,\"#bd3786\"],[0.5555555555555556,\"#d8576b\"],[0.6666666666666666,\"#ed7953\"],[0.7777777777777778,\"#fb9f3a\"],[0.8888888888888888,\"#fdca26\"],[1.0,\"#f0f921\"]]}],\"surface\":[{\"type\":\"surface\",\"colorbar\":{\"outlinewidth\":0,\"ticks\":\"\"},\"colorscale\":[[0.0,\"#0d0887\"],[0.1111111111111111,\"#46039f\"],[0.2222222222222222,\"#7201a8\"],[0.3333333333333333,\"#9c179e\"],[0.4444444444444444,\"#bd3786\"],[0.5555555555555556,\"#d8576b\"],[0.6666666666666666,\"#ed7953\"],[0.7777777777777778,\"#fb9f3a\"],[0.8888888888888888,\"#fdca26\"],[1.0,\"#f0f921\"]]}],\"mesh3d\":[{\"type\":\"mesh3d\",\"colorbar\":{\"outlinewidth\":0,\"ticks\":\"\"}}],\"scatter\":[{\"fillpattern\":{\"fillmode\":\"overlay\",\"size\":10,\"solidity\":0.2},\"type\":\"scatter\"}],\"parcoords\":[{\"type\":\"parcoords\",\"line\":{\"colorbar\":{\"outlinewidth\":0,\"ticks\":\"\"}}}],\"scatterpolargl\":[{\"type\":\"scatterpolargl\",\"marker\":{\"colorbar\":{\"outlinewidth\":0,\"ticks\":\"\"}}}],\"bar\":[{\"error_x\":{\"color\":\"#2a3f5f\"},\"error_y\":{\"color\":\"#2a3f5f\"},\"marker\":{\"line\":{\"color\":\"#E5ECF6\",\"width\":0.5},\"pattern\":{\"fillmode\":\"overlay\",\"size\":10,\"solidity\":0.2}},\"type\":\"bar\"}],\"scattergeo\":[{\"type\":\"scattergeo\",\"marker\":{\"colorbar\":{\"outlinewidth\":0,\"ticks\":\"\"}}}],\"scatterpolar\":[{\"type\":\"scatterpolar\",\"marker\":{\"colorbar\":{\"outlinewidth\":0,\"ticks\":\"\"}}}],\"histogram\":[{\"marker\":{\"pattern\":{\"fillmode\":\"overlay\",\"size\":10,\"solidity\":0.2}},\"type\":\"histogram\"}],\"scattergl\":[{\"type\":\"scattergl\",\"marker\":{\"colorbar\":{\"outlinewidth\":0,\"ticks\":\"\"}}}],\"scatter3d\":[{\"type\":\"scatter3d\",\"line\":{\"colorbar\":{\"outlinewidth\":0,\"ticks\":\"\"}},\"marker\":{\"colorbar\":{\"outlinewidth\":0,\"ticks\":\"\"}}}],\"scattermapbox\":[{\"type\":\"scattermapbox\",\"marker\":{\"colorbar\":{\"outlinewidth\":0,\"ticks\":\"\"}}}],\"scatterternary\":[{\"type\":\"scatterternary\",\"marker\":{\"colorbar\":{\"outlinewidth\":0,\"ticks\":\"\"}}}],\"scattercarpet\":[{\"type\":\"scattercarpet\",\"marker\":{\"colorbar\":{\"outlinewidth\":0,\"ticks\":\"\"}}}],\"carpet\":[{\"aaxis\":{\"endlinecolor\":\"#2a3f5f\",\"gridcolor\":\"white\",\"linecolor\":\"white\",\"minorgridcolor\":\"white\",\"startlinecolor\":\"#2a3f5f\"},\"baxis\":{\"endlinecolor\":\"#2a3f5f\",\"gridcolor\":\"white\",\"linecolor\":\"white\",\"minorgridcolor\":\"white\",\"startlinecolor\":\"#2a3f5f\"},\"type\":\"carpet\"}],\"table\":[{\"cells\":{\"fill\":{\"color\":\"#EBF0F8\"},\"line\":{\"color\":\"white\"}},\"header\":{\"fill\":{\"color\":\"#C8D4E3\"},\"line\":{\"color\":\"white\"}},\"type\":\"table\"}],\"barpolar\":[{\"marker\":{\"line\":{\"color\":\"#E5ECF6\",\"width\":0.5},\"pattern\":{\"fillmode\":\"overlay\",\"size\":10,\"solidity\":0.2}},\"type\":\"barpolar\"}],\"pie\":[{\"automargin\":true,\"type\":\"pie\"}]},\"layout\":{\"autotypenumbers\":\"strict\",\"colorway\":[\"#636efa\",\"#EF553B\",\"#00cc96\",\"#ab63fa\",\"#FFA15A\",\"#19d3f3\",\"#FF6692\",\"#B6E880\",\"#FF97FF\",\"#FECB52\"],\"font\":{\"color\":\"#2a3f5f\"},\"hovermode\":\"closest\",\"hoverlabel\":{\"align\":\"left\"},\"paper_bgcolor\":\"white\",\"plot_bgcolor\":\"#E5ECF6\",\"polar\":{\"bgcolor\":\"#E5ECF6\",\"angularaxis\":{\"gridcolor\":\"white\",\"linecolor\":\"white\",\"ticks\":\"\"},\"radialaxis\":{\"gridcolor\":\"white\",\"linecolor\":\"white\",\"ticks\":\"\"}},\"ternary\":{\"bgcolor\":\"#E5ECF6\",\"aaxis\":{\"gridcolor\":\"white\",\"linecolor\":\"white\",\"ticks\":\"\"},\"baxis\":{\"gridcolor\":\"white\",\"linecolor\":\"white\",\"ticks\":\"\"},\"caxis\":{\"gridcolor\":\"white\",\"linecolor\":\"white\",\"ticks\":\"\"}},\"coloraxis\":{\"colorbar\":{\"outlinewidth\":0,\"ticks\":\"\"}},\"colorscale\":{\"sequential\":[[0.0,\"#0d0887\"],[0.1111111111111111,\"#46039f\"],[0.2222222222222222,\"#7201a8\"],[0.3333333333333333,\"#9c179e\"],[0.4444444444444444,\"#bd3786\"],[0.5555555555555556,\"#d8576b\"],[0.6666666666666666,\"#ed7953\"],[0.7777777777777778,\"#fb9f3a\"],[0.8888888888888888,\"#fdca26\"],[1.0,\"#f0f921\"]],\"sequentialminus\":[[0.0,\"#0d0887\"],[0.1111111111111111,\"#46039f\"],[0.2222222222222222,\"#7201a8\"],[0.3333333333333333,\"#9c179e\"],[0.4444444444444444,\"#bd3786\"],[0.5555555555555556,\"#d8576b\"],[0.6666666666666666,\"#ed7953\"],[0.7777777777777778,\"#fb9f3a\"],[0.8888888888888888,\"#fdca26\"],[1.0,\"#f0f921\"]],\"diverging\":[[0,\"#8e0152\"],[0.1,\"#c51b7d\"],[0.2,\"#de77ae\"],[0.3,\"#f1b6da\"],[0.4,\"#fde0ef\"],[0.5,\"#f7f7f7\"],[0.6,\"#e6f5d0\"],[0.7,\"#b8e186\"],[0.8,\"#7fbc41\"],[0.9,\"#4d9221\"],[1,\"#276419\"]]},\"xaxis\":{\"gridcolor\":\"white\",\"linecolor\":\"white\",\"ticks\":\"\",\"title\":{\"standoff\":15},\"zerolinecolor\":\"white\",\"automargin\":true,\"zerolinewidth\":2},\"yaxis\":{\"gridcolor\":\"white\",\"linecolor\":\"white\",\"ticks\":\"\",\"title\":{\"standoff\":15},\"zerolinecolor\":\"white\",\"automargin\":true,\"zerolinewidth\":2},\"scene\":{\"xaxis\":{\"backgroundcolor\":\"#E5ECF6\",\"gridcolor\":\"white\",\"linecolor\":\"white\",\"showbackground\":true,\"ticks\":\"\",\"zerolinecolor\":\"white\",\"gridwidth\":2},\"yaxis\":{\"backgroundcolor\":\"#E5ECF6\",\"gridcolor\":\"white\",\"linecolor\":\"white\",\"showbackground\":true,\"ticks\":\"\",\"zerolinecolor\":\"white\",\"gridwidth\":2},\"zaxis\":{\"backgroundcolor\":\"#E5ECF6\",\"gridcolor\":\"white\",\"linecolor\":\"white\",\"showbackground\":true,\"ticks\":\"\",\"zerolinecolor\":\"white\",\"gridwidth\":2}},\"shapedefaults\":{\"line\":{\"color\":\"#2a3f5f\"}},\"annotationdefaults\":{\"arrowcolor\":\"#2a3f5f\",\"arrowhead\":0,\"arrowwidth\":1},\"geo\":{\"bgcolor\":\"white\",\"landcolor\":\"#E5ECF6\",\"subunitcolor\":\"white\",\"showland\":true,\"showlakes\":true,\"lakecolor\":\"white\"},\"title\":{\"x\":0.05},\"mapbox\":{\"style\":\"light\"}}},\"xaxis\":{\"anchor\":\"y\",\"domain\":[0.0,1.0],\"title\":{\"text\":\"index\"}},\"yaxis\":{\"anchor\":\"x\",\"domain\":[0.0,1.0],\"title\":{\"text\":\"percent of sum of value\"}},\"legend\":{\"title\":{\"text\":\"variable\"},\"tracegroupgap\":0,\"orientation\":\"h\",\"yanchor\":\"bottom\",\"y\":1.02,\"xanchor\":\"left\",\"x\":0},\"margin\":{\"t\":60},\"barmode\":\"group\",\"width\":2000},                        {\"responsive\": true}                    ).then(function(){\n",
       "                            \n",
       "var gd = document.getElementById('902321fe-f06c-4552-a150-fdfe49d6394f');\n",
       "var x = new MutationObserver(function (mutations, observer) {{\n",
       "        var display = window.getComputedStyle(gd).display;\n",
       "        if (!display || display === 'none') {{\n",
       "            console.log([gd, 'removed!']);\n",
       "            Plotly.purge(gd);\n",
       "            observer.disconnect();\n",
       "        }}\n",
       "}});\n",
       "\n",
       "// Listen for the removal of the full notebook cells\n",
       "var notebookContainer = gd.closest('#notebook-container');\n",
       "if (notebookContainer) {{\n",
       "    x.observe(notebookContainer, {childList: true});\n",
       "}}\n",
       "\n",
       "// Listen for the clearing of the current output cell\n",
       "var outputEl = gd.closest('.output');\n",
       "if (outputEl) {{\n",
       "    x.observe(outputEl, {childList: true});\n",
       "}}\n",
       "\n",
       "                        })                };                });            </script>        </div>"
      ]
     },
     "metadata": {},
     "output_type": "display_data"
    }
   ],
   "source": [
    "total_groups_histogram(width=2000)"
   ]
  }
 ],
 "metadata": {
  "kernelspec": {
   "display_name": "Python 3 (ipykernel)",
   "language": "python",
   "name": "python3"
  },
  "language_info": {
   "codemirror_mode": {
    "name": "ipython",
    "version": 3
   },
   "file_extension": ".py",
   "mimetype": "text/x-python",
   "name": "python",
   "nbconvert_exporter": "python",
   "pygments_lexer": "ipython3",
   "version": "3.10.9"
  }
 },
 "nbformat": 4,
 "nbformat_minor": 5
}
